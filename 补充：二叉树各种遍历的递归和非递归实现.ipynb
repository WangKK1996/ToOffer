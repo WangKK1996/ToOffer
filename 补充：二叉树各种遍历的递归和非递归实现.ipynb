{
 "cells": [
  {
   "cell_type": "markdown",
   "metadata": {},
   "source": [
    "### 二叉树的递归实现\n",
    "首先，理解什么叫做前序、中序和后序、\n",
    "\n",
    "在递归过程中，在一个节点会经过三次。如果是第一次经过该节点就打印该节点，称为前序遍历；如果是第二次经过该节点，称为中序；若是最后一次经过该节点，称为后序。"
   ]
  },
  {
   "cell_type": "code",
   "execution_count": 3,
   "metadata": {},
   "outputs": [],
   "source": [
    "# 定义二叉树结点类\n",
    "class BinTNode():\n",
    "    def __init__(self,value = None, left = None, right = None):\n",
    "        self.left = left\n",
    "        self.right = right\n",
    "        self.value = value"
   ]
  },
  {
   "cell_type": "markdown",
   "metadata": {},
   "source": [
    "#### 二叉树的递归实现"
   ]
  },
  {
   "cell_type": "code",
   "execution_count": 69,
   "metadata": {},
   "outputs": [],
   "source": [
    "# 构造一颗二叉树\n",
    "t = BinTNode(1,BinTNode(2,BinTNode(4),BinTNode(5)),BinTNode(3,BinTNode(6),BinTNode(7)))"
   ]
  },
  {
   "cell_type": "code",
   "execution_count": 70,
   "metadata": {},
   "outputs": [],
   "source": [
    "## 使用递归的方法实现二叉树的前序，中序、后序遍历\n",
    "def print_BinTree(node):\n",
    "    # 先序遍历中左右\n",
    "    if node is None:\n",
    "        return\n",
    "    print(node.value) # 前序\n",
    "    \n",
    "    print_BinTree(node.left)\n",
    "#     print(node.value) # 中序\n",
    "    print_BinTree(node.right)\n",
    "#     print(node.value) # 后序\n",
    "        "
   ]
  },
  {
   "cell_type": "code",
   "execution_count": 71,
   "metadata": {},
   "outputs": [
    {
     "name": "stdout",
     "output_type": "stream",
     "text": [
      "1\n",
      "2\n"
     ]
    }
   ],
   "source": [
    "print_BinTree(BinTNode(1,None,BinTNode(2)))"
   ]
  },
  {
   "cell_type": "markdown",
   "metadata": {},
   "source": [
    "### 使用非递归函数实现二叉树的前序遍历"
   ]
  },
  {
   "cell_type": "code",
   "execution_count": 92,
   "metadata": {},
   "outputs": [],
   "source": [
    "def BinTree_pre(root):\n",
    "    if root is None:\n",
    "        return None\n",
    "    \n",
    "    root_list = []\n",
    "    pre_list = []\n",
    "    # 终止条件，栈中没有元素\n",
    "    while len(root_list) != 0 or root is not None:\n",
    "        # 如果当前节点不为空，则把当前节点压入栈，设为左孩子\n",
    "        while root is not None:\n",
    "            pre_list.append(root.value)\n",
    "            root_list.append(root)\n",
    "            root = root.left\n",
    "        # 左孩子为空时，则设置当前节点为它的右孩子\n",
    "        root = root_list.pop().right\n",
    "    return pre_list"
   ]
  },
  {
   "cell_type": "code",
   "execution_count": 94,
   "metadata": {},
   "outputs": [
    {
     "data": {
      "text/plain": [
       "[1, 2]"
      ]
     },
     "execution_count": 94,
     "metadata": {},
     "output_type": "execute_result"
    }
   ],
   "source": [
    "BinTree_pre(BinTNode(1,None,BinTNode(2)))"
   ]
  },
  {
   "cell_type": "markdown",
   "metadata": {},
   "source": [
    "#### 使用非递归函数实现二叉树的中序遍历"
   ]
  },
  {
   "cell_type": "code",
   "execution_count": 106,
   "metadata": {},
   "outputs": [],
   "source": [
    "def BinTree_mid(root):\n",
    "    if root is None:\n",
    "        return None\n",
    "    mid_list = []\n",
    "    root_list = []\n",
    "    # 终止条件，栈中没有元素\n",
    "    while len(root_list) != 0 or root is not None:\n",
    "        # 如果当前节点不为空，则把当前节点压入栈，设为左孩子\n",
    "        while root is not None:\n",
    "            root_list.append(root)\n",
    "            root = root.left\n",
    "        \n",
    "        # 左孩子为空时，则设置当前节点为它的右孩子\n",
    "        root = root_list.pop()\n",
    "        \n",
    "        # 和先序遍历唯一不同的就是，append这个行为发生在出栈，而不是入栈时。\n",
    "        mid_list.append(root.value)\n",
    "        root = root.right\n",
    "\n",
    "    return mid_list"
   ]
  },
  {
   "cell_type": "code",
   "execution_count": 107,
   "metadata": {},
   "outputs": [
    {
     "data": {
      "text/plain": [
       "[4, 2, 5, 1, 6, 3, 7]"
      ]
     },
     "execution_count": 107,
     "metadata": {},
     "output_type": "execute_result"
    }
   ],
   "source": [
    "BinTree_mid(t)"
   ]
  },
  {
   "cell_type": "markdown",
   "metadata": {},
   "source": [
    "#### 使用非递归函数实现二叉树的后序遍历"
   ]
  },
  {
   "cell_type": "code",
   "execution_count": 110,
   "metadata": {},
   "outputs": [],
   "source": [
    "def BinTree_back(root):\n",
    "    if root is None:\n",
    "        return None\n",
    "    back_list = []\n",
    "    root_list = []\n",
    "    # 终止条件，栈中没有元素\n",
    "    while len(root_list) != 0 or root is not None:\n",
    "        # 如果当前节点不为空，则把当前节点压入栈，设为左孩子\n",
    "        while root is not None:\n",
    "            back_list.append(root.value)\n",
    "            root_list.append(root)\n",
    "            root = root.right\n",
    "        \n",
    "        # 左孩子为空时，则设置当前节点为它的右孩子\n",
    "        root = root_list.pop()\n",
    "        \n",
    "        # 和先序遍历唯一不同的就是，append这个行为发生在出栈，而不是入栈时。\n",
    "        root = root.left\n",
    "    \n",
    "    return back_list[::-1]"
   ]
  },
  {
   "cell_type": "code",
   "execution_count": 111,
   "metadata": {},
   "outputs": [
    {
     "data": {
      "text/plain": [
       "[4, 5, 2, 6, 7, 3, 1]"
      ]
     },
     "execution_count": 111,
     "metadata": {},
     "output_type": "execute_result"
    }
   ],
   "source": [
    "BinTree_back(t)"
   ]
  },
  {
   "cell_type": "code",
   "execution_count": null,
   "metadata": {},
   "outputs": [],
   "source": []
  }
 ],
 "metadata": {
  "kernelspec": {
   "display_name": "Python 3",
   "language": "python",
   "name": "python3"
  },
  "language_info": {
   "codemirror_mode": {
    "name": "ipython",
    "version": 3
   },
   "file_extension": ".py",
   "mimetype": "text/x-python",
   "name": "python",
   "nbconvert_exporter": "python",
   "pygments_lexer": "ipython3",
   "version": "3.7.1"
  }
 },
 "nbformat": 4,
 "nbformat_minor": 2
}
