{
 "cells": [
  {
   "cell_type": "markdown",
   "metadata": {},
   "source": [
    "请实现一个函数，用来判断一颗二叉树是不是对称的。注意，如果一个二叉树同此二叉树的镜像是同样的，定义其为对称的。"
   ]
  },
  {
   "cell_type": "markdown",
   "metadata": {},
   "source": [
    "### 我的思路\n",
    "和上一题一样，可以用返回一颗镜像二叉树，如果镜像二叉树和原来的二叉树一样，那就认为对称。"
   ]
  },
  {
   "cell_type": "markdown",
   "metadata": {},
   "source": [
    "### 书上的思路\n",
    "还有一种方法是，定义一种新的遍历方法。先遍历根节点，再遍历右节点，最后左结点。如果这个序列和先序遍历的结果是一样的，就说明二叉树是对称的。"
   ]
  },
  {
   "cell_type": "code",
   "execution_count": 25,
   "metadata": {},
   "outputs": [],
   "source": [
    "# -*- coding:utf-8 -*-\n",
    "class TreeNode:\n",
    "    def __init__(self, x, left = None, right = None):\n",
    "        self.val = x\n",
    "        self.left = left\n",
    "        self.right = right\n",
    "class Solution:\n",
    "    def isSymmetrical(self, pRoot):\n",
    "        # write code here\n",
    "        # 前序遍历\n",
    "        root = pRoot\n",
    "        root_list = []\n",
    "        pre_list = []\n",
    "        while len(root_list) != 0 or root is not None: \n",
    "            while root is not None:\n",
    "                root_list.append(root)\n",
    "                pre_list.append(root.val)\n",
    "                root = root.left\n",
    "            pre_list.append(root)\n",
    "            root = root_list.pop().right\n",
    "        \n",
    "        # 另一种遍历方法\n",
    "        root = pRoot\n",
    "        new_list = []\n",
    "        while len(root_list) != 0 or root is not None: \n",
    "            while root is not None:\n",
    "                root_list.append(root)\n",
    "                new_list.append(root.val)\n",
    "                root = root.right\n",
    "            new_list.append(root)\n",
    "            root = root_list.pop().left\n",
    "        \n",
    "        print(pre_list)\n",
    "        print(new_list)\n",
    "        if pre_list == new_list:\n",
    "            return True\n",
    "        else:\n",
    "            return False\n",
    "            \n",
    "        "
   ]
  },
  {
   "cell_type": "code",
   "execution_count": 26,
   "metadata": {},
   "outputs": [],
   "source": [
    "test = TreeNode(5,TreeNode(5,None,TreeNode(5)),TreeNode(5,None,TreeNode(5)))"
   ]
  },
  {
   "cell_type": "code",
   "execution_count": 27,
   "metadata": {},
   "outputs": [
    {
     "name": "stdout",
     "output_type": "stream",
     "text": [
      "[5, 5, None, 5, None, None, 5, None, 5, None]\n",
      "[5, 5, 5, None, None, None, 5, 5, None, None]\n"
     ]
    },
    {
     "data": {
      "text/plain": [
       "False"
      ]
     },
     "execution_count": 27,
     "metadata": {},
     "output_type": "execute_result"
    }
   ],
   "source": [
    "a = Solution()\n",
    "a.isSymmetrical(test)"
   ]
  },
  {
   "cell_type": "code",
   "execution_count": null,
   "metadata": {},
   "outputs": [],
   "source": []
  }
 ],
 "metadata": {
  "kernelspec": {
   "display_name": "Python 3",
   "language": "python",
   "name": "python3"
  },
  "language_info": {
   "codemirror_mode": {
    "name": "ipython",
    "version": 3
   },
   "file_extension": ".py",
   "mimetype": "text/x-python",
   "name": "python",
   "nbconvert_exporter": "python",
   "pygments_lexer": "ipython3",
   "version": "3.7.1"
  }
 },
 "nbformat": 4,
 "nbformat_minor": 2
}
