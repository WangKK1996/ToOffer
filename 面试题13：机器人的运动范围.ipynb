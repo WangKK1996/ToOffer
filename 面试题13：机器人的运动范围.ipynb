{
 "cells": [
  {
   "cell_type": "markdown",
   "metadata": {},
   "source": [
    "地上有一个m行n列的方格。一个机器人从坐标$(0,0)$的各自开始移动，他每次可以向左、右、上、下移动一格，但是不能进入航坐标和列坐标的数位之和大于k的格子。\n",
    "\n",
    "例如，当k为18时，机器人能够进入方格$(35,37)$位置，因为$3+5+3+7 = 18$，但是它不能进入$(35,38)$因为$4+5+3+8=19$,请问机器人可以到达多少个格子？"
   ]
  },
  {
   "cell_type": "code",
   "execution_count": 56,
   "metadata": {},
   "outputs": [],
   "source": [
    "# -*- coding:utf-8 -*-\n",
    "class Solution:\n",
    "    def movingCount(self, threshold, rows, cols):\n",
    "        # write code here\n",
    "        if threshold < 0 or rows< 1 or cols < 1:\n",
    "            return 0\n",
    "        \n",
    "        arrived = [False] * (rows * cols)\n",
    "        count = self.movingCountCore(threshold, rows, cols, 0, 0, arrived)\n",
    "        return count\n",
    "    \n",
    "    def movingCountCore(self, threshold, rows, cols, row, col,arrived):\n",
    "        count = 0\n",
    "        if row < rows and col < cols and row >=0 and col >= 0 and \\\n",
    "        not arrived[row * cols + col] and \\\n",
    "        self.calculate_sum(row) + self.calculate_sum(col) <= threshold:\n",
    "            arrived[row*cols + col] = True\n",
    "            count = 1+ self.movingCountCore(threshold, rows, cols, row, col-1, arrived)+\\\n",
    "                   self.movingCountCore(threshold, rows, cols, row-1, col, arrived)+\\\n",
    "                   self.movingCountCore(threshold, rows, cols, row, col+1, arrived)+\\\n",
    "                   self.movingCountCore(threshold, rows, cols, row+1, col, arrived)\n",
    "        return count\n",
    "    \n",
    "    def calculate_sum(self,num):\n",
    "        return sum(list(map(int,list(str(num)))))"
   ]
  },
  {
   "cell_type": "code",
   "execution_count": 57,
   "metadata": {},
   "outputs": [
    {
     "data": {
      "text/plain": [
       "21"
      ]
     },
     "execution_count": 57,
     "metadata": {},
     "output_type": "execute_result"
    }
   ],
   "source": [
    "a = Solution()\n",
    "a.movingCount(5,10,10)"
   ]
  },
  {
   "cell_type": "code",
   "execution_count": null,
   "metadata": {},
   "outputs": [],
   "source": []
  }
 ],
 "metadata": {
  "kernelspec": {
   "display_name": "Python 3",
   "language": "python",
   "name": "python3"
  },
  "language_info": {
   "codemirror_mode": {
    "name": "ipython",
    "version": 3
   },
   "file_extension": ".py",
   "mimetype": "text/x-python",
   "name": "python",
   "nbconvert_exporter": "python",
   "pygments_lexer": "ipython3",
   "version": "3.7.1"
  }
 },
 "nbformat": 4,
 "nbformat_minor": 2
}
