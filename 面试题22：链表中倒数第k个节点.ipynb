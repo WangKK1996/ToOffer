{
 "cells": [
  {
   "cell_type": "markdown",
   "metadata": {},
   "source": [
    "输入一个链表，输出该链表中倒数第k个结点。"
   ]
  },
  {
   "cell_type": "markdown",
   "metadata": {},
   "source": [
    "### 我的思路\n",
    "要输出链表中倒数第k个，\n",
    "1. 首先要找到尾节点，要知道它的长度。\n",
    "2. 顺序找出第k个。\n",
    "\n",
    "这个思路花费的时间是$O(n)$的。\n"
   ]
  },
  {
   "cell_type": "code",
   "execution_count": 3,
   "metadata": {},
   "outputs": [],
   "source": [
    "# -*- coding:utf-8 -*-\n",
    "# class ListNode:\n",
    "#     def __init__(self, x):\n",
    "#         self.val = x\n",
    "#         self.next = None\n",
    "\n",
    "class Solution:\n",
    "    def FindKthToTail(self, head, k):\n",
    "        # write code here\n",
    "        length = 0\n",
    "        node = head\n",
    "        lst = []\n",
    "        while node != None:\n",
    "            lst.append(node)\n",
    "            length += 1\n",
    "        return node[length-k]\n",
    "        "
   ]
  },
  {
   "cell_type": "markdown",
   "metadata": {},
   "source": [
    "很惨的是上面这条数组过大被毙掉了- -\n",
    "\n",
    "试试用时间换空间："
   ]
  },
  {
   "cell_type": "code",
   "execution_count": 4,
   "metadata": {},
   "outputs": [],
   "source": [
    "# -*- coding:utf-8 -*-\n",
    "# class ListNode:\n",
    "#     def __init__(self, x):\n",
    "#         self.val = x\n",
    "#         self.next = None\n",
    "\n",
    "class Solution:\n",
    "    def FindKthToTail(self, head, k):\n",
    "        # write code here\n",
    "        length = 0\n",
    "        node = head\n",
    "        lst = []\n",
    "        while node != None:\n",
    "            length += 1\n",
    "        node = head\n",
    "        for i in range(length-k):\n",
    "            node = node.next\n",
    "        return node"
   ]
  },
  {
   "cell_type": "markdown",
   "metadata": {},
   "source": [
    "太惨了也被毙掉了。那就看答案是咋写的- -\n",
    "\n",
    "### 答案的思路\n",
    "为了实现只遍历链表一次就能找到倒数第k个节点，可以定义两个指针：\n",
    "\n",
    "在前k-1步，指针1正常往前走，指针2都保持不动。\n",
    "\n",
    "从第k步开始，指针1和2同时移动，这样指针1和指针2之间始终有k-1个距离。当指针1指向空（末尾节点）时，指针2就是倒数第k个节点。\n",
    "\n",
    "另外，还要注意代码的全面和鲁棒性，注意以下三个问题:\n",
    "1. 空指针的处理\n",
    "2. 总结点数小于k\n",
    "3. 输入的k为0"
   ]
  },
  {
   "cell_type": "code",
   "execution_count": 52,
   "metadata": {},
   "outputs": [],
   "source": [
    "# -*- coding:utf-8 -*-\n",
    "# class ListNode:\n",
    "#     def __init__(self, x):\n",
    "#         self.val = x\n",
    "#         self.next = None\n",
    "\n",
    "class Solution:\n",
    "    def FindKthToTail(self, head, k):\n",
    "\n",
    "        # write code here\n",
    "        if head is None or k == 0:\n",
    "            return None\n",
    "         \n",
    "        length = 0\n",
    "        node1= head\n",
    "        node2 = head\n",
    "        itr = 0\n",
    "        \n",
    "        # 用next是为了防止node1直接到None上，会使得第二个while不成立（在倒数数字和节点长相等时出现）\n",
    "        while itr < k-1:\n",
    "            if node1.next is not None:\n",
    "                node1 = node1.next\n",
    "                itr+=1\n",
    "            else: \n",
    "                return None\n",
    "        \n",
    "        while node1.next is not None:\n",
    "            node1 = node1.next\n",
    "            node2 = node2.next\n",
    "        return node2"
   ]
  },
  {
   "cell_type": "code",
   "execution_count": 53,
   "metadata": {},
   "outputs": [],
   "source": [
    "a1 = ListNode(1)\n",
    "a2 = ListNode(2)\n",
    "a3 = ListNode(3)\n",
    "a4 = ListNode(4)\n",
    "a5 = ListNode(5)\n",
    "a1.next = a2\n",
    "a2.next = a3\n",
    "a3.next = a4\n",
    "a4.next = a5"
   ]
  },
  {
   "cell_type": "code",
   "execution_count": 58,
   "metadata": {},
   "outputs": [],
   "source": [
    "a = Solution()\n",
    "a.FindKthToTail(a1,10)"
   ]
  },
  {
   "cell_type": "code",
   "execution_count": null,
   "metadata": {},
   "outputs": [],
   "source": []
  }
 ],
 "metadata": {
  "kernelspec": {
   "display_name": "Python 3",
   "language": "python",
   "name": "python3"
  },
  "language_info": {
   "codemirror_mode": {
    "name": "ipython",
    "version": 3
   },
   "file_extension": ".py",
   "mimetype": "text/x-python",
   "name": "python",
   "nbconvert_exporter": "python",
   "pygments_lexer": "ipython3",
   "version": "3.7.1"
  }
 },
 "nbformat": 4,
 "nbformat_minor": 2
}
