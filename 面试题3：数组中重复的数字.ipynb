{
 "cells": [
  {
   "cell_type": "markdown",
   "metadata": {},
   "source": [
    "## 题目一：找出数组中重复的数字。\n",
    "\n",
    "**在一个长度为n的数组里，所有的数字都在0~n-1的范围内。数组中某些数字是重复的，但是不知道有几个数字重复，也不知道每个数字重复几次。请找出数组中任意一个重复的数字。例如，如果输入长度为7的数组{2,3,1,0,2,5,3}，对应的输出是重复的数字2或者3.**\n",
    "\n",
    "### 我的思路\n",
    "把数组先排序，然后定义一个指针，如果指针i和它下一个数重复，那就返回指针i,否则指针i向前跳一个，直到结束。"
   ]
  },
  {
   "cell_type": "code",
   "execution_count": 5,
   "metadata": {},
   "outputs": [],
   "source": [
    "def findRepeat(s):\n",
    "    s.sort()\n",
    "    i = 0\n",
    "    while i < len(s)-1:\n",
    "        if s[i] == s[i+1]:\n",
    "            return s[i]\n",
    "        else:\n",
    "            i += 1\n",
    "    return None"
   ]
  },
  {
   "cell_type": "code",
   "execution_count": 18,
   "metadata": {},
   "outputs": [
    {
     "data": {
      "text/plain": [
       "4"
      ]
     },
     "execution_count": 18,
     "metadata": {},
     "output_type": "execute_result"
    }
   ],
   "source": [
    "test = [1,2,3,4,4,4,4,5]\n",
    "findRepeat(test)"
   ]
  },
  {
   "cell_type": "markdown",
   "metadata": {},
   "source": [
    "### 进阶：哈希表\n",
    "排序算法的算法复杂度为$O(n\\log n)$，答案给出进阶解法：哈希表。\n",
    "\n",
    "思路是，key设为值，value设为出现次数；每次查询一个值，如果在hash表中，直接返回这个值，如果不在hash表中，则把该值加入hash表，并将value设为1。"
   ]
  },
  {
   "cell_type": "code",
   "execution_count": 19,
   "metadata": {},
   "outputs": [],
   "source": [
    "def findRepeatHash(s):\n",
    "    hash_dict = {}\n",
    "    for i in s:\n",
    "        if i not in hash_dict:\n",
    "            hash_dict[i] = 1\n",
    "        else:\n",
    "            return i\n",
    "    return None"
   ]
  },
  {
   "cell_type": "code",
   "execution_count": 20,
   "metadata": {},
   "outputs": [
    {
     "data": {
      "text/plain": [
       "4"
      ]
     },
     "execution_count": 20,
     "metadata": {},
     "output_type": "execute_result"
    }
   ],
   "source": [
    "findRepeatHash(test)"
   ]
  },
  {
   "cell_type": "markdown",
   "metadata": {},
   "source": [
    "### 进阶2：利用下标和交换\n",
    "hash算法复杂度为$O(n)$（它只需要要遍历一次数据表），但是需要付出额外的空间复杂度：一个$O(n)$的哈希表。所以作者有更进阶的算法:\n",
    "\n",
    "注意到，所有的数字都是1~n-1之间的，这意味着排序后，如果没有重复数字，则每个数字和自己的下标是对应的：`s[i] = i`;\n",
    "\n",
    "所以，我们可以对s做扫描，查看`s[i]`是否等于i,如果不是，那么查看`s[s[i]]`是否等于`s[i]`,如果是，则说明有重复数字。如果不是的话，就把`s[s[i]]和s[i]`交换一下，这样`s[s[i]] = s[i]`了，把i+1,进行下一轮遍历，直到找到重复数为止。"
   ]
  },
  {
   "cell_type": "code",
   "execution_count": 22,
   "metadata": {},
   "outputs": [],
   "source": [
    "def findRepeatV3(s):\n",
    "    ss = s.copy()\n",
    "    ss.sort()\n",
    "    i = 0\n",
    "    while i <= len(ss)-1:\n",
    "        if ss[i] == i:\n",
    "            i += 1\n",
    "        elif ss[ss[i]] == ss[i]:\n",
    "            return ss[i]\n",
    "        else:\n",
    "            ss[ss[i]], ss[i] = ss[i],ss[ss[i]] # 二者进行交换\n",
    "    return None"
   ]
  },
  {
   "cell_type": "code",
   "execution_count": 23,
   "metadata": {},
   "outputs": [],
   "source": [
    "test = [2,2,1,2]"
   ]
  },
  {
   "cell_type": "code",
   "execution_count": 24,
   "metadata": {},
   "outputs": [
    {
     "data": {
      "text/plain": [
       "2"
      ]
     },
     "execution_count": 24,
     "metadata": {},
     "output_type": "execute_result"
    }
   ],
   "source": [
    "findRepeatV3(test)"
   ]
  },
  {
   "cell_type": "markdown",
   "metadata": {},
   "source": [
    "### 题目二：不修改数组找出重复的数字\n",
    "首先看清楚题目要求。一个长度为n+1的所有数字都在1~n的范围内，所以数组中至少有一个数字是重复的。请找出数组中任意一个重复的数字，但是不能修改输入的数组。"
   ]
  },
  {
   "cell_type": "markdown",
   "metadata": {},
   "source": [
    "#### 我的思路\n",
    "那么我们不能排序了。直接用上题提到的哈希表是可以解决的。"
   ]
  },
  {
   "cell_type": "code",
   "execution_count": 26,
   "metadata": {},
   "outputs": [],
   "source": [
    "def findRepeat(lst):\n",
    "    i = 0\n",
    "    lst_hash = {}\n",
    "    while i < len(lst):\n",
    "        if lst[i] not in lst_hash:\n",
    "            lst_hash[lst[i]] = 1\n",
    "        else:\n",
    "            return lst[i]\n",
    "        i += 1\n",
    "    return None"
   ]
  },
  {
   "cell_type": "code",
   "execution_count": 32,
   "metadata": {},
   "outputs": [
    {
     "data": {
      "text/plain": [
       "2"
      ]
     },
     "execution_count": 32,
     "metadata": {},
     "output_type": "execute_result"
    }
   ],
   "source": [
    "lst = [2,2,1,3,4,5,5,5,5,5]\n",
    "findRepeat(lst)"
   ]
  },
  {
   "cell_type": "markdown",
   "metadata": {},
   "source": [
    "hash、复制列表这两种方法都需要额外的空间复杂度$O(n)$\n",
    "\n",
    "我们再给一个不需要额外空间复杂度的算法。我感觉作者这里有用桶排序的思想。这个算法的劣势在于，不一定能找出所有的重复数字。\n",
    "\n",
    "简单思想：\n",
    "将数字分为两个部分，分别计算左右两部分数字的个数。如果出现数字的个数大于实际的n，那么就认为这里出现重复数字，递归这个过程，就可以找到结果。\n",
    "\n",
    "(但我觉得这个算法有问题啊，如果二分时，左右两边数字个数都为正常数字，应当在两边都继续二分；但作者只是挑选了在左边二分，就很不科学= =）\n",
    "\n",
    "补：搜了一下，有一个经典的解法是当长度等于m时，m = m -1，直到找到两边数字不等的情况。"
   ]
  },
  {
   "cell_type": "code",
   "execution_count": 8,
   "metadata": {},
   "outputs": [],
   "source": [
    "def getRepeatV4(lst,n):\n",
    "    middle = int(( q)/2)\n",
    "    start = 1\n",
    "    end = len(lst)\n",
    "    while start != end:\n",
    "        count = countRange(lst, start, middle)\n",
    "        length = middle - start + 1:\n",
    "            if length == 1:\n",
    "                if count > 1:\n",
    "                    return start\n",
    "                else:\n",
    "                    return 0\n",
    "                \n",
    "        if count == length:\n",
    "            middle -= 1\n",
    "        elif count < length:\n",
    "            start = middle\n",
    "    \n",
    "        \n",
    "        \n",
    "def countRange(lst, start, middle):\n",
    "    count = 0\n",
    "    for i in lst:\n",
    "        if i >= start and i <= middle:\n",
    "            count += 1\n",
    "    return count\n",
    "    # 统计数组中1~4这些数字出现了多少次，如果"
   ]
  },
  {
   "cell_type": "code",
   "execution_count": 9,
   "metadata": {},
   "outputs": [],
   "source": [
    "a = [1,2,3,4]"
   ]
  },
  {
   "cell_type": "code",
   "execution_count": 10,
   "metadata": {},
   "outputs": [
    {
     "data": {
      "text/plain": [
       "4"
      ]
     },
     "execution_count": 10,
     "metadata": {},
     "output_type": "execute_result"
    }
   ],
   "source": [
    "countRange([1,2,3,3,4], 1,3)"
   ]
  },
  {
   "cell_type": "code",
   "execution_count": null,
   "metadata": {},
   "outputs": [],
   "source": []
  }
 ],
 "metadata": {
  "kernelspec": {
   "display_name": "Python 3",
   "language": "python",
   "name": "python3"
  },
  "language_info": {
   "codemirror_mode": {
    "name": "ipython",
    "version": 3
   },
   "file_extension": ".py",
   "mimetype": "text/x-python",
   "name": "python",
   "nbconvert_exporter": "python",
   "pygments_lexer": "ipython3",
   "version": "3.7.1"
  }
 },
 "nbformat": 4,
 "nbformat_minor": 2
}
