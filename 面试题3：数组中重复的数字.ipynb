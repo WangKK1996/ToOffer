{
 "cells": [
  {
   "cell_type": "markdown",
   "metadata": {},
   "source": [
    "## 题目一：找出数组中重复的数字。\n",
    "\n",
    "**在一个长度为n的数组里，所有的数字都在0~n-1的范围内。数组中某些数字是重复的，但是不知道有几个数字重复，也不知道每个数字重复几次。请找出数组中任意一个重复的数字。例如，如果输入长度为7的数组{2,3,1,0,2,5,3}，对应的输出是重复的数字2或者3.**\n",
    "\n",
    "### 我的思路\n",
    "把数组先排序，然后定义一个指针，如果指针i和它下一个数重复，那就返回指针i,否则指针i向前跳一个，直到结束。"
   ]
  },
  {
   "cell_type": "code",
   "execution_count": 5,
   "metadata": {},
   "outputs": [],
   "source": [
    "def findRepeat(s):\n",
    "    s.sort()\n",
    "    i = 0\n",
    "    while i < len(s)-1:\n",
    "        if s[i] == s[i+1]:\n",
    "            return s[i]\n",
    "        else:\n",
    "            i += 1\n",
    "    return None"
   ]
  },
  {
   "cell_type": "code",
   "execution_count": 18,
   "metadata": {},
   "outputs": [
    {
     "data": {
      "text/plain": [
       "4"
      ]
     },
     "execution_count": 18,
     "metadata": {},
     "output_type": "execute_result"
    }
   ],
   "source": [
    "test = [1,2,3,4,4,4,4,5]\n",
    "findRepeat(test)"
   ]
  },
  {
   "cell_type": "markdown",
   "metadata": {},
   "source": [
    "### 进阶：哈希表\n",
    "排序算法的算法复杂度为$O(n\\log n)$，答案给出进阶解法：哈希表。\n",
    "\n",
    "思路是，key设为值，value设为出现次数；每次查询一个值，如果在hash表中，直接返回这个值，如果不在hash表中，则把该值加入hash表，并将value设为1。"
   ]
  },
  {
   "cell_type": "code",
   "execution_count": 19,
   "metadata": {},
   "outputs": [],
   "source": [
    "def findRepeatHash(s):\n",
    "    hash_dict = {}\n",
    "    for i in s:\n",
    "        if i not in hash_dict:\n",
    "            hash_dict[i] = 1\n",
    "        else:\n",
    "            return i\n",
    "    return None"
   ]
  },
  {
   "cell_type": "code",
   "execution_count": 20,
   "metadata": {},
   "outputs": [
    {
     "data": {
      "text/plain": [
       "4"
      ]
     },
     "execution_count": 20,
     "metadata": {},
     "output_type": "execute_result"
    }
   ],
   "source": [
    "findRepeatHash(test)"
   ]
  },
  {
   "cell_type": "markdown",
   "metadata": {},
   "source": [
    "### 进阶2：利用下标和交换\n",
    "hash算法复杂度为$O(n)$（它只需要要遍历一次数据表），但是需要付出额外的空间复杂度：一个$O(n)$的哈希表。所以作者有更进阶的算法:\n",
    "\n",
    "注意到，所有的数字都是1~n-1之间的，这意味着排序后，如果没有重复数字，则每个数字和自己的下标是对应的：`s[i] = i`;\n",
    "\n",
    "所以，我们可以对s做扫描，查看`s[i]`是否等于i,如果不是，那么查看`s[s[i]]`是否等于`s[i]`,如果是，则说明有重复数字。如果不是的话，就把`s[s[i]]和s[i]`交换一下，这样`s[s[i]] = s[i]`了，把i+1,进行下一轮遍历，直到找到重复数为止。"
   ]
  },
  {
   "cell_type": "code",
   "execution_count": 33,
   "metadata": {},
   "outputs": [],
   "source": [
    "def findRepeatV3(s):\n",
    "    ss = s.copy()\n",
    "    ss.sort()\n",
    "    i = 0\n",
    "    while i < len(ss)-1:\n",
    "        if ss[i] == i:\n",
    "            i += 1\n",
    "        elif ss[ss[i]] == ss[i]:\n",
    "            return ss[i]\n",
    "        else: ss[ss[i]], ss[i] = ss[i],ss[ss[i]]\n",
    "    return None"
   ]
  },
  {
   "cell_type": "code",
   "execution_count": 35,
   "metadata": {},
   "outputs": [],
   "source": [
    "test = [2,2,1,0]"
   ]
  },
  {
   "cell_type": "code",
   "execution_count": 36,
   "metadata": {},
   "outputs": [],
   "source": [
    "findRepeatV3(test)"
   ]
  },
  {
   "cell_type": "code",
   "execution_count": null,
   "metadata": {},
   "outputs": [],
   "source": []
  }
 ],
 "metadata": {
  "kernelspec": {
   "display_name": "Python 3",
   "language": "python",
   "name": "python3"
  },
  "language_info": {
   "codemirror_mode": {
    "name": "ipython",
    "version": 3
   },
   "file_extension": ".py",
   "mimetype": "text/x-python",
   "name": "python",
   "nbconvert_exporter": "python",
   "pygments_lexer": "ipython3",
   "version": "3.5.5"
  }
 },
 "nbformat": 4,
 "nbformat_minor": 2
}
