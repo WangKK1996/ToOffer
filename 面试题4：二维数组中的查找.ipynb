{
 "cells": [
  {
   "cell_type": "markdown",
   "metadata": {},
   "source": [
    "在一个二维数组中，每一行都按照从左到右递增的顺序排序，每一列都按照从上到下递增的顺序排序。请完成一个函数，输入这样一个二维数组和一个整数，判断数组中是否含有该整数。"
   ]
  },
  {
   "cell_type": "markdown",
   "metadata": {},
   "source": [
    "### 我的思路\n",
    "首先，这是一个进阶版的二分搜索问题，可以先找最中间的位置。如果目标数小于它，就在其左上角搜索它。否则，从它的右下角搜索它。\n",
    "\n",
    "但是书里直接指出，这样的做法是不对的，因为这样搜索区域不好定。\n",
    "\n",
    "### 书里的思路\n",
    "1. 最右上角的数字。如果数字比它小，则搜索区域只会出现在前n-1列中。(列数-1）\n",
    "2. 如果数字比它大，则搜索区域会出现在它的右边或者下面。但是因为右边的数字已经被踢掉了，所以只可能出现在它的下面，可以把该数字所在行也给踢掉了。(行数+1)\n",
    "\n",
    "反复这个过程，直到找到这个数字，或者剩余为空为止。\n"
   ]
  },
  {
   "cell_type": "code",
   "execution_count": 46,
   "metadata": {},
   "outputs": [],
   "source": [
    "def findNum(mat,target):\n",
    "    if mat == []:\n",
    "        return False\n",
    "    \n",
    "    # 设置起始行和起始列\n",
    "    row = 0\n",
    "    col = len(mat[0])-1\n",
    "    \n",
    "    n = len(mat)\n",
    "\n",
    "    # 设置起始数字\n",
    "    #右上角的数字\n",
    "    while row < n and col >= 0 : # 设置终止条件\n",
    "        num = mat[row][col] #始终看的是右上角的数字\n",
    "        if num == target:\n",
    "            return True\n",
    "        elif num > target:\n",
    "            col -= 1\n",
    "        else:\n",
    "            row += 1 \n",
    "    return False"
   ]
  },
  {
   "cell_type": "code",
   "execution_count": 52,
   "metadata": {},
   "outputs": [
    {
     "data": {
      "text/plain": [
       "False"
      ]
     },
     "execution_count": 52,
     "metadata": {},
     "output_type": "execute_result"
    }
   ],
   "source": [
    "target = 0.5\n",
    "mat = [[1,2,8,9],[2,4,9,12],[4,7,10,12],[6,8,11,15]]\n",
    "\n",
    "findNum(mat,target)"
   ]
  },
  {
   "cell_type": "code",
   "execution_count": 54,
   "metadata": {},
   "outputs": [
    {
     "data": {
      "text/plain": [
       "True"
      ]
     },
     "execution_count": 54,
     "metadata": {},
     "output_type": "execute_result"
    }
   ],
   "source": [
    "## 多来几个测试用例,注意空值。\n",
    "target = 3\n",
    "mat = [[1,2,3]]\n",
    "findNum(mat,target)"
   ]
  },
  {
   "cell_type": "code",
   "execution_count": 55,
   "metadata": {},
   "outputs": [
    {
     "data": {
      "text/plain": [
       "False"
      ]
     },
     "execution_count": 55,
     "metadata": {},
     "output_type": "execute_result"
    }
   ],
   "source": [
    "target = 7\n",
    "mat = [[]]\n",
    "\n",
    "findNum(mat,target)"
   ]
  },
  {
   "cell_type": "code",
   "execution_count": null,
   "metadata": {},
   "outputs": [],
   "source": []
  }
 ],
 "metadata": {
  "kernelspec": {
   "display_name": "Python 3",
   "language": "python",
   "name": "python3"
  },
  "language_info": {
   "codemirror_mode": {
    "name": "ipython",
    "version": 3
   },
   "file_extension": ".py",
   "mimetype": "text/x-python",
   "name": "python",
   "nbconvert_exporter": "python",
   "pygments_lexer": "ipython3",
   "version": "3.7.1"
  }
 },
 "nbformat": 4,
 "nbformat_minor": 2
}
