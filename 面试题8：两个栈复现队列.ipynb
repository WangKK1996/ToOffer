{
 "cells": [
  {
   "cell_type": "markdown",
   "metadata": {},
   "source": [
    "用两个栈来实现一个队列，完成队列的Push和Pop操作。 队列中的元素为int类型。"
   ]
  },
  {
   "cell_type": "markdown",
   "metadata": {},
   "source": [
    "### 我的思路\n",
    "这道题应该听左神讲过，思路如下：\n",
    "\n",
    "1. 入队时，直接放在第一个栈末尾，然后执行pop到第二个栈中。\n",
    "2. 出队时，从第二个栈pop。"
   ]
  },
  {
   "cell_type": "code",
   "execution_count": 21,
   "metadata": {},
   "outputs": [],
   "source": [
    "# -*- coding:utf-8 -*-\n",
    "class Solution:\n",
    "    def __init__(self):\n",
    "        self.queue = []\n",
    "        self.stack1 = []\n",
    "        self.stack2 = []\n",
    "    \n",
    "    def push(self, node):\n",
    "        self.stack1.append(node)\n",
    "    \n",
    "    def pop(self):\n",
    "        if self.stack2 == [] and self.stack1 != []:\n",
    "#             self.stack2 = self.stack1[::-1] # 直接翻过来\n",
    "#             self.stack1 = [] # 变成空列表\n",
    "        # 上面这种反而更慢不知道为何- -\n",
    "            while self.stack1 != []:\n",
    "                self.stack2.append(self.stack1.pop())\n",
    "        pop = self.stack2.pop()\n",
    "        return pop"
   ]
  },
  {
   "cell_type": "code",
   "execution_count": 26,
   "metadata": {},
   "outputs": [],
   "source": [
    "a = Solution()\n",
    "a.push(1)\n",
    "a.push(2)\n",
    "a.push(0)"
   ]
  },
  {
   "cell_type": "code",
   "execution_count": 27,
   "metadata": {},
   "outputs": [
    {
     "data": {
      "text/plain": [
       "1"
      ]
     },
     "execution_count": 27,
     "metadata": {},
     "output_type": "execute_result"
    }
   ],
   "source": [
    "a.pop()"
   ]
  }
 ],
 "metadata": {
  "kernelspec": {
   "display_name": "Python 3",
   "language": "python",
   "name": "python3"
  },
  "language_info": {
   "codemirror_mode": {
    "name": "ipython",
    "version": 3
   },
   "file_extension": ".py",
   "mimetype": "text/x-python",
   "name": "python",
   "nbconvert_exporter": "python",
   "pygments_lexer": "ipython3",
   "version": "3.7.1"
  }
 },
 "nbformat": 4,
 "nbformat_minor": 2
}
