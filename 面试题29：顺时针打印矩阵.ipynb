{
 "cells": [
  {
   "cell_type": "markdown",
   "metadata": {},
   "source": [
    "输入一个矩阵，按照从外向里以顺时针的顺序依次打印出每一个数字。"
   ]
  },
  {
   "cell_type": "markdown",
   "metadata": {},
   "source": [
    "### 我的思路\n",
    "这题左神也讲过！\n",
    "\n",
    "把问题分解为两个步骤：\n",
    "1. 首先，按照顺序打印框\n",
    "2. 外框打印后，左上角和右下角的指针各向内缩一个。\n",
    "3. 终止条件：左上角的行或者列超过右下角的行或列。\n"
   ]
  },
  {
   "cell_type": "code",
   "execution_count": 104,
   "metadata": {},
   "outputs": [],
   "source": [
    "# -*- coding:utf-8 -*-\n",
    "class Solution:\n",
    "    # matrix类型为二维列表，需要返回列表\n",
    "    def printMatrix(self, matrix):\n",
    "        # write code here\n",
    "        out_lst = []\n",
    "        LR = 0\n",
    "        LC = 0\n",
    "        RR = len(matrix)-1\n",
    "        RC = len(matrix[0])-1\n",
    "        while LR <= RR and LC <= RC:\n",
    "            out_lst.extend(self.printEdge(matrix,LR,LC,RR,RC))\n",
    "            LR += 1\n",
    "            LC +=1\n",
    "            RR -= 1\n",
    "            RC -= 1\n",
    "        return out_lst\n",
    "        \n",
    "    \n",
    "    def printEdge(self, matrix, LR,LC,RR,RC):\n",
    "        \"\"\"\n",
    "        LR,LC,RR,RC分别是左上角的行、列；右下角的行列。\n",
    "        \"\"\"\n",
    "        lst = []\n",
    "        lr,lc,rr,rc = LR,LC,RR,RC # 复制一遍，用于下面的循环\n",
    "        if lr == rr:\n",
    "            while lc <= RC:\n",
    "                lst.append(matrix[LR][lc])\n",
    "                lc += 1\n",
    "        elif lc == rc:\n",
    "            while lr <= RR:\n",
    "                lst.append(matrix[lr][RC])\n",
    "                lr += 1\n",
    "        else:\n",
    "            while lc < RC:\n",
    "                lst.append(matrix[LR][lc])\n",
    "                lc += 1\n",
    "            while lr < RR:\n",
    "                lst.append(matrix[lr][RC])\n",
    "                lr += 1\n",
    "            while rc > LC: # 注意这里的边界条件，不能打印回原来的位置\n",
    "                lst.append(matrix[RR][rc])\n",
    "                rc -= 1\n",
    "            while rr > LR:\n",
    "                lst.append(matrix[rr][LC])\n",
    "                rr -= 1\n",
    "        return lst"
   ]
  },
  {
   "cell_type": "code",
   "execution_count": 105,
   "metadata": {},
   "outputs": [
    {
     "data": {
      "text/plain": [
       "[1, 2]"
      ]
     },
     "execution_count": 105,
     "metadata": {},
     "output_type": "execute_result"
    }
   ],
   "source": [
    "a = Solution()\n",
    "a.printMatrix([[1],[2]])"
   ]
  },
  {
   "cell_type": "code",
   "execution_count": null,
   "metadata": {},
   "outputs": [],
   "source": []
  },
  {
   "cell_type": "code",
   "execution_count": null,
   "metadata": {},
   "outputs": [],
   "source": []
  }
 ],
 "metadata": {
  "kernelspec": {
   "display_name": "Python 3",
   "language": "python",
   "name": "python3"
  },
  "language_info": {
   "codemirror_mode": {
    "name": "ipython",
    "version": 3
   },
   "file_extension": ".py",
   "mimetype": "text/x-python",
   "name": "python",
   "nbconvert_exporter": "python",
   "pygments_lexer": "ipython3",
   "version": "3.7.1"
  }
 },
 "nbformat": 4,
 "nbformat_minor": 2
}
