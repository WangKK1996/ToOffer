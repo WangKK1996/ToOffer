{
 "cells": [
  {
   "cell_type": "markdown",
   "metadata": {},
   "source": [
    "给定一个double类型的浮点数base和int类型的整数exponent。求base的exponent次方。\n",
    "\n"
   ]
  },
  {
   "cell_type": "code",
   "execution_count": 10,
   "metadata": {},
   "outputs": [],
   "source": [
    "# -*- coding:utf-8 -*-\n",
    "class Solution:\n",
    "    def Power(self, base, exponent):\n",
    "        # write code here\n",
    "        if exponent == 0 and base != 0:\n",
    "            return 1\n",
    "        if exponent == 0 and base == 0:\n",
    "            raise Exception(\"Error!,0^0\")\n",
    "        if exponent < 0:\n",
    "            return 1/self.PowerCore(base,-exponent)\n",
    "        else:\n",
    "            return self.PowerCore(base, exponent)\n",
    "        \n",
    "    def PowerCore(self,base,exponent):\n",
    "        out = 1\n",
    "        for i in range(exponent):\n",
    "            out = out*base\n",
    "        return out"
   ]
  },
  {
   "cell_type": "code",
   "execution_count": 11,
   "metadata": {},
   "outputs": [
    {
     "data": {
      "text/plain": [
       "0.25"
      ]
     },
     "execution_count": 11,
     "metadata": {},
     "output_type": "execute_result"
    }
   ],
   "source": [
    "a = Solution()\n",
    "a.Power(2,-2)"
   ]
  },
  {
   "cell_type": "markdown",
   "metadata": {},
   "source": [
    "另外一个炫技的写法使用递归+二分的方法进行计算。"
   ]
  },
  {
   "cell_type": "code",
   "execution_count": 65,
   "metadata": {},
   "outputs": [],
   "source": [
    "# -*- coding:utf-8 -*-\n",
    "class Solution:\n",
    "    def Power(self, base, exponent):\n",
    "        # write code here\n",
    "        if exponent == 0 and base != 0:\n",
    "            return 1\n",
    "        if exponent == 0 and base == 0:\n",
    "            raise Exception(\"Error!,0^0\")\n",
    "        if exponent < 0:\n",
    "            return 1/self.PowerCore(base,-exponent)\n",
    "        else:\n",
    "            return self.PowerCore(base, exponent)\n",
    "        \n",
    "    def PowerCore(self,base,exponent):\n",
    "        print(\"test\")\n",
    "        if exponent == 0:\n",
    "            return 1\n",
    "        if exponent == 1:\n",
    "            return base\n",
    "        # 一个数等于它的exponent/2后乘方的平方。\n",
    "        result = self.PowerCore(base,exponent>>1) # 右移代表除2\n",
    "        result *= result \n",
    "        # 如果是奇数，那么就应该再乘上一次base,否则直接返回\n",
    "        if exponent & 1 == 1:\n",
    "            print(result)\n",
    "            result *= base\n",
    "        return result"
   ]
  },
  {
   "cell_type": "code",
   "execution_count": 71,
   "metadata": {},
   "outputs": [
    {
     "name": "stdout",
     "output_type": "stream",
     "text": [
      "test\n",
      "test\n",
      "test\n",
      "9\n"
     ]
    },
    {
     "data": {
      "text/plain": [
       "729"
      ]
     },
     "execution_count": 71,
     "metadata": {},
     "output_type": "execute_result"
    }
   ],
   "source": [
    "a = Solution()\n",
    "a.Power(3,6)"
   ]
  },
  {
   "cell_type": "code",
   "execution_count": 42,
   "metadata": {},
   "outputs": [
    {
     "data": {
      "text/plain": [
       "11"
      ]
     },
     "execution_count": 42,
     "metadata": {},
     "output_type": "execute_result"
    }
   ],
   "source": [
    "0xB #在看源代码的时候，他们用的是16进制数：0x开头:0x1"
   ]
  },
  {
   "cell_type": "code",
   "execution_count": 73,
   "metadata": {},
   "outputs": [
    {
     "data": {
      "text/plain": [
       "1"
      ]
     },
     "execution_count": 73,
     "metadata": {},
     "output_type": "execute_result"
    }
   ],
   "source": [
    "(2>>1) & 1"
   ]
  },
  {
   "cell_type": "code",
   "execution_count": null,
   "metadata": {},
   "outputs": [],
   "source": []
  }
 ],
 "metadata": {
  "kernelspec": {
   "display_name": "Python 3",
   "language": "python",
   "name": "python3"
  },
  "language_info": {
   "codemirror_mode": {
    "name": "ipython",
    "version": 3
   },
   "file_extension": ".py",
   "mimetype": "text/x-python",
   "name": "python",
   "nbconvert_exporter": "python",
   "pygments_lexer": "ipython3",
   "version": "3.7.1"
  }
 },
 "nbformat": 4,
 "nbformat_minor": 2
}
