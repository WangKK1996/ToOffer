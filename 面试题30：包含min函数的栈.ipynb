{
 "cells": [
  {
   "cell_type": "markdown",
   "metadata": {},
   "source": [
    "定义栈的数据结构，请在该类型中实现一个能够得到栈的最小元素的min函数。在该栈中，调用min、push及pop的时间复杂度都是O(1)"
   ]
  },
  {
   "cell_type": "markdown",
   "metadata": {},
   "source": [
    "### 我的思路\n",
    "\n",
    "左神讲过，做两个栈。一个栈用来放正常的顺序，另一个栈用来压最小值即可"
   ]
  },
  {
   "cell_type": "code",
   "execution_count": 24,
   "metadata": {},
   "outputs": [],
   "source": [
    "# -*- coding:utf-8 -*-\n",
    "class Solution:\n",
    "    def __init__(self):\n",
    "        self.norm_lst = []\n",
    "        self.min_lst = []\n",
    "    def push(self, node):\n",
    "        # write code here\n",
    "        self.norm_lst.append(node)\n",
    "        if len(self.min_lst) == 0:\n",
    "            self.min_lst.append(node)\n",
    "        else:\n",
    "            if node < self.min_lst[-1]:\n",
    "                self.min_lst.append(node)\n",
    "            else:\n",
    "                self.min_lst.append(self.min_lst[-1])\n",
    "        \n",
    "    def pop(self):\n",
    "        # write code here\n",
    "        self.min_lst.pop()\n",
    "        return self.norm_lst.pop()\n",
    "    def top(self):\n",
    "        # write code here\n",
    "        return self.norm_lst[-1]\n",
    "    def min(self):\n",
    "        # write code here\n",
    "        return self.min_lst[-1]"
   ]
  },
  {
   "cell_type": "code",
   "execution_count": 28,
   "metadata": {},
   "outputs": [
    {
     "data": {
      "text/plain": [
       "1"
      ]
     },
     "execution_count": 28,
     "metadata": {},
     "output_type": "execute_result"
    }
   ],
   "source": [
    "a = Solution()\n",
    "a.push(1)\n",
    "a.push(2)\n",
    "a.push(-1)\n",
    "a.pop()\n",
    "a.min()"
   ]
  },
  {
   "cell_type": "code",
   "execution_count": null,
   "metadata": {},
   "outputs": [],
   "source": []
  },
  {
   "cell_type": "code",
   "execution_count": null,
   "metadata": {},
   "outputs": [],
   "source": []
  }
 ],
 "metadata": {
  "kernelspec": {
   "display_name": "Python 3",
   "language": "python",
   "name": "python3"
  },
  "language_info": {
   "codemirror_mode": {
    "name": "ipython",
    "version": 3
   },
   "file_extension": ".py",
   "mimetype": "text/x-python",
   "name": "python",
   "nbconvert_exporter": "python",
   "pygments_lexer": "ipython3",
   "version": "3.7.1"
  }
 },
 "nbformat": 4,
 "nbformat_minor": 2
}
