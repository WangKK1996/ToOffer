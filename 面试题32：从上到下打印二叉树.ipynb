{
 "cells": [
  {
   "cell_type": "markdown",
   "metadata": {},
   "source": [
    "从上往下打印出二叉树的每个节点，同层节点从左至右打印。"
   ]
  },
  {
   "cell_type": "markdown",
   "metadata": {},
   "source": [
    "### 我的思路\n",
    "一个递归的过程：\n",
    "1. 将头节点压入队列中\n",
    "2. 队列中元素弹出，打印当前节点，将它的左右两个节点压入新队列中；\n",
    "3. 旧队列为空时，从新队列中再次出队，打印他们，然后把左右子节点压入队列中\n",
    "\n",
    "* 停止条件：两个队列都为空时。"
   ]
  },
  {
   "cell_type": "code",
   "execution_count": null,
   "metadata": {},
   "outputs": [],
   "source": [
    "# -*- coding:utf-8 -*-\n",
    "class TreeNode:\n",
    "    def __init__(self, x,left = None, right = None):\n",
    "        self.val = x\n",
    "        self.left = left\n",
    "        self.right = right"
   ]
  },
  {
   "cell_type": "code",
   "execution_count": 10,
   "metadata": {},
   "outputs": [],
   "source": [
    "class Solution:\n",
    "    # 返回从上到下每个节点值列表，例：[1,2,3]\n",
    "    def PrintFromTopToBottom(self, root):\n",
    "        # write code here\n",
    "        if root is None:\n",
    "            return []\n",
    "        queue1 = [root]\n",
    "        queue2 = []\n",
    "        res = []\n",
    "        while queue1 != [] or queue2 != []:\n",
    "            while queue1 != []:\n",
    "                node = queue1[0]\n",
    "                \n",
    "                res.append(node.val)\n",
    "                if node.left is not None:\n",
    "                    queue2.append(node.left)\n",
    "                if node.right is not None:\n",
    "                    queue2.append(node.right)\n",
    "                    \n",
    "                if len(queue1) >1 :\n",
    "                    queue1 = queue1[1::]\n",
    "                else:\n",
    "                    queue1 = []\n",
    "\n",
    "            queue1,queue2 = queue2,queue1\n",
    "        return res"
   ]
  },
  {
   "cell_type": "code",
   "execution_count": 11,
   "metadata": {},
   "outputs": [
    {
     "data": {
      "text/plain": [
       "[1, 2, 3, 6, 4, 5, 7]"
      ]
     },
     "execution_count": 11,
     "metadata": {},
     "output_type": "execute_result"
    }
   ],
   "source": [
    "t = TreeNode(1,TreeNode(2,TreeNode(6,TreeNode(7))),TreeNode(3,TreeNode(4),TreeNode(5)))\n",
    "a = Solution()\n",
    "a.PrintFromTopToBottom(t)"
   ]
  },
  {
   "cell_type": "markdown",
   "metadata": {},
   "source": [
    "### 代码优化\n",
    "实际上这个问题完全不需要用两个队列实现，只要满足先进先出原则，一个队列就可以了。"
   ]
  },
  {
   "cell_type": "code",
   "execution_count": 17,
   "metadata": {},
   "outputs": [],
   "source": [
    "class Solution:\n",
    "    # 返回从上到下每个节点值列表，例：[1,2,3]\n",
    "    def PrintFromTopToBottom(self, root):\n",
    "        # write code here\n",
    "        if root is None:\n",
    "            return []\n",
    "        queue = [root]\n",
    "        res = []\n",
    "        while queue != []:\n",
    "            node = queue[0]\n",
    "            res.append(node.val)\n",
    "            if node.left is not None:\n",
    "                queue.append(node.left)\n",
    "            if node.right is not None:\n",
    "                queue.append(node.right)\n",
    "\n",
    "            if len(queue) >1 :\n",
    "                queue = queue[1::]\n",
    "            else:\n",
    "                queue = []\n",
    "        return res"
   ]
  },
  {
   "cell_type": "code",
   "execution_count": 18,
   "metadata": {},
   "outputs": [
    {
     "data": {
      "text/plain": [
       "[1, 2, 3, 6, 4, 5, 7]"
      ]
     },
     "execution_count": 18,
     "metadata": {},
     "output_type": "execute_result"
    }
   ],
   "source": [
    "t = TreeNode(1,TreeNode(2,TreeNode(6,TreeNode(7))),TreeNode(3,TreeNode(4),TreeNode(5)))\n",
    "a = Solution()\n",
    "a.PrintFromTopToBottom(t)"
   ]
  },
  {
   "cell_type": "markdown",
   "metadata": {},
   "source": [
    "## 题目变形：多行打印二叉树\n",
    "从上到下按层打印二叉树，同一层结点从左至右输出。每一层输出一行。\n",
    "\n",
    "### 我的思路\n",
    "这种时候就要构造两个队列了，就是我第一版方法，该队列打完后换一行即可。"
   ]
  },
  {
   "cell_type": "code",
   "execution_count": 35,
   "metadata": {},
   "outputs": [],
   "source": [
    "# -*- coding:utf-8 -*-\n",
    "# class TreeNode:\n",
    "#     def __init__(self, x):\n",
    "#         self.val = x\n",
    "#         self.left = None\n",
    "#         self.right = None\n",
    "class Solution:\n",
    "    # 返回二维列表[[1,2],[4,5]]\n",
    "    def Print(self, pRoot):\n",
    "        # write code here\n",
    "        if pRoot is None:\n",
    "            return []\n",
    "        queue1 = [pRoot]\n",
    "        queue2 = []\n",
    "        res = []\n",
    "        \n",
    "        while queue1 != [] or queue2 != []:\n",
    "            tmp = []\n",
    "            while queue1 != []:\n",
    "                \n",
    "                node = queue1[0]\n",
    "                \n",
    "                tmp.append(node.val)\n",
    "                if node.left is not None:\n",
    "                    queue2.append(node.left)\n",
    "                if node.right is not None:\n",
    "                    queue2.append(node.right)\n",
    "                    \n",
    "                if len(queue1) >1 :\n",
    "                    queue1 = queue1[1::]\n",
    "                else:\n",
    "                    queue1 = []\n",
    "            res.append(tmp)\n",
    "            queue1,queue2 = queue2,queue1\n",
    "            \n",
    "        return res"
   ]
  },
  {
   "cell_type": "code",
   "execution_count": 36,
   "metadata": {},
   "outputs": [
    {
     "data": {
      "text/plain": [
       "[[1], [2, 3], [6, 4, 5], [7]]"
      ]
     },
     "execution_count": 36,
     "metadata": {},
     "output_type": "execute_result"
    }
   ],
   "source": [
    "t = TreeNode(1,TreeNode(2,TreeNode(6,TreeNode(7))),TreeNode(3,TreeNode(4),TreeNode(5)))\n",
    "a = Solution()\n",
    "a.Print(t)"
   ]
  },
  {
   "cell_type": "markdown",
   "metadata": {},
   "source": [
    "## 题目变形：之字形打印二叉树\n",
    "请实现一个函数按照之字形打印二叉树，即第一行按照从左到右的顺序打印，第二层按照从右至左的顺序打印，第三行按照从左到右的顺序打印，其他行以此类推。\n",
    "\n",
    "### 我的思路\n",
    "也比较简单，在第二问的基础上加上一个判断奇数还是偶数。如果是偶数行，那么queue2直接倒过来就可以了。\n"
   ]
  },
  {
   "cell_type": "code",
   "execution_count": 48,
   "metadata": {},
   "outputs": [],
   "source": [
    "# -*- coding:utf-8 -*-\n",
    "# class TreeNode:\n",
    "#     def __init__(self, x):\n",
    "#         self.val = x\n",
    "#         self.left = None\n",
    "#         self.right = None\n",
    "class Solution:\n",
    "    def Print(self, pRoot):\n",
    "        # write code here\n",
    "        if pRoot is None:\n",
    "            return []\n",
    "        queue1 = [pRoot]\n",
    "        queue2 = []\n",
    "        res = []\n",
    "        row = 1\n",
    "        \n",
    "        while queue1 != [] or queue2 != []:\n",
    "            tmp = []\n",
    "            while queue1 != []:\n",
    "                \n",
    "                node = queue1[0]\n",
    "                \n",
    "                tmp.append(node.val)\n",
    "                if node.left is not None:\n",
    "                    queue2.append(node.left)\n",
    "                if node.right is not None:\n",
    "                    queue2.append(node.right)\n",
    "                    \n",
    "                if len(queue1) >1 :\n",
    "                    queue1 = queue1[1::]\n",
    "                else:\n",
    "                    queue1 = []\n",
    "            queue1,queue2 = queue2,queue1\n",
    "            if row %2 == 0:\n",
    "                tmp = tmp[::-1]\n",
    "            res.append(tmp)\n",
    "            row += 1\n",
    "\n",
    "            \n",
    "        return res"
   ]
  },
  {
   "cell_type": "code",
   "execution_count": 49,
   "metadata": {},
   "outputs": [
    {
     "data": {
      "text/plain": [
       "[[1], [3, 2], [6, 4, 5], [7]]"
      ]
     },
     "execution_count": 49,
     "metadata": {},
     "output_type": "execute_result"
    }
   ],
   "source": [
    "t = TreeNode(1,TreeNode(2,TreeNode(6,TreeNode(7))),TreeNode(3,TreeNode(4),TreeNode(5)))\n",
    "a = Solution()\n",
    "a.Print(t)"
   ]
  },
  {
   "cell_type": "code",
   "execution_count": 53,
   "metadata": {},
   "outputs": [
    {
     "data": {
      "text/plain": [
       "[[1], [3, 2], [6, 5, 4], [7]]"
      ]
     },
     "execution_count": 53,
     "metadata": {},
     "output_type": "execute_result"
    }
   ],
   "source": [
    "t = TreeNode(1,TreeNode(2,TreeNode(6,TreeNode(7))),TreeNode(3,TreeNode(4),TreeNode(5)))\n",
    "a = Solution()\n",
    "a.Print(t)"
   ]
  },
  {
   "cell_type": "code",
   "execution_count": null,
   "metadata": {},
   "outputs": [],
   "source": []
  }
 ],
 "metadata": {
  "kernelspec": {
   "display_name": "Python 3",
   "language": "python",
   "name": "python3"
  },
  "language_info": {
   "codemirror_mode": {
    "name": "ipython",
    "version": 3
   },
   "file_extension": ".py",
   "mimetype": "text/x-python",
   "name": "python",
   "nbconvert_exporter": "python",
   "pygments_lexer": "ipython3",
   "version": "3.7.1"
  }
 },
 "nbformat": 4,
 "nbformat_minor": 2
}
