{
 "cells": [
  {
   "cell_type": "markdown",
   "metadata": {},
   "source": [
    "输入一个整数n，请你输出斐波那契数列的第n项"
   ]
  },
  {
   "cell_type": "markdown",
   "metadata": {},
   "source": [
    "### 我的思路\n",
    "肯定二话不说上递归。"
   ]
  },
  {
   "cell_type": "code",
   "execution_count": 1,
   "metadata": {},
   "outputs": [],
   "source": [
    "class Solution:\n",
    "    def Fibonacci(self, n):\n",
    "        # write code here\n",
    "        if n == 0:\n",
    "            return 0\n",
    "        if n == 1:\n",
    "            return 1\n",
    "        else:\n",
    "            return self.Fibonacci(n-1) + self.Fibonacci(n-2)"
   ]
  },
  {
   "cell_type": "markdown",
   "metadata": {},
   "source": [
    "### 改进思路\n",
    "上面这个算法因为计算量实在太大所以挂掉了，有很多重复的计算可以避免，可以采用从上到下计算的方法。从f(1)到f(2)……到f(3)\n",
    "\n",
    "下面给出进阶算法："
   ]
  },
  {
   "cell_type": "code",
   "execution_count": 31,
   "metadata": {},
   "outputs": [],
   "source": [
    "class Solution:\n",
    "    def Fibonacci(self, n):\n",
    "        # write code here\n",
    "        i = 0\n",
    "        tmp1 = 0\n",
    "        tmp2 = 1\n",
    "        while i < n-1:\n",
    "            tmp1, tmp2 = tmp2, tmp1+tmp2\n",
    "            i += 1\n",
    "        return tmp1"
   ]
  },
  {
   "cell_type": "code",
   "execution_count": 32,
   "metadata": {},
   "outputs": [
    {
     "data": {
      "text/plain": [
       "1"
      ]
     },
     "execution_count": 32,
     "metadata": {},
     "output_type": "execute_result"
    }
   ],
   "source": [
    "a = Solution()\n",
    "a.Fibonacci(2)"
   ]
  },
  {
   "cell_type": "markdown",
   "metadata": {},
   "source": [
    "### 青蛙跳台阶"
   ]
  },
  {
   "cell_type": "markdown",
   "metadata": {},
   "source": [
    "一只青蛙可以跳上1级台阶，也可以跳上2级台阶，求该青蛙跳上一个n级台阶总共有多少种跳法。(先后次序不同也算不同的结果)。\n",
    "\n",
    "#### 我的思路\n",
    "这题也可以拿递归写，有：\n",
    "$$f(n) = f(n-1) + f(n-2)$$\n",
    "并且有\n",
    "$$f(1) = 1,f(2)=2$$."
   ]
  },
  {
   "cell_type": "code",
   "execution_count": 42,
   "metadata": {},
   "outputs": [],
   "source": [
    "class Solution:\n",
    "    def jumpFloor(self, number):\n",
    "        # write code here\n",
    "        i = 0\n",
    "        tmp1 = 1\n",
    "        tmp2 = 2\n",
    "        while i < number:\n",
    "            print(tmp1)\n",
    "            tmp1,tmp2 = tmp2, tmp1+tmp2\n",
    "            i+=1\n",
    "        return tmp1"
   ]
  },
  {
   "cell_type": "code",
   "execution_count": 43,
   "metadata": {},
   "outputs": [
    {
     "name": "stdout",
     "output_type": "stream",
     "text": [
      "1\n",
      "2\n"
     ]
    },
    {
     "data": {
      "text/plain": [
       "3"
      ]
     },
     "execution_count": 43,
     "metadata": {},
     "output_type": "execute_result"
    }
   ],
   "source": [
    "a = Solution()\n",
    "a.jumpFloor(2)"
   ]
  },
  {
   "cell_type": "markdown",
   "metadata": {},
   "source": [
    "### 变态跳台阶\n",
    "如果青蛙是可以一次跳很多级，那么就有\n",
    "$$f(n) = f(n-1) + f(n-2) + f(n-3) + ... + f(1)$$\n",
    "并且有：\n",
    "$$f(n-1) = f(n-2)+f(n-3) + ... + f(1)$$\n",
    "从而：\n",
    "$$f(n) = 2f(n-1)$$\n",
    "那么，就可以得到：\n",
    "$$f(n) = 2^{n-1}$$"
   ]
  },
  {
   "cell_type": "code",
   "execution_count": 44,
   "metadata": {},
   "outputs": [],
   "source": [
    "class Solution:\n",
    "    def jumpFloorII(self, number):\n",
    "        # write code here\n",
    "        return 2**(number-1)\n",
    "        "
   ]
  },
  {
   "cell_type": "markdown",
   "metadata": {},
   "source": [
    "### 矩形覆盖"
   ]
  },
  {
   "cell_type": "markdown",
   "metadata": {},
   "source": [
    "我们可以用2\\*1的小矩形横着或者竖着去覆盖更大的矩形。请问用n个2\\*1的小矩形无重叠地覆盖一个2\\*n的大矩形，总共有多少种方法?"
   ]
  },
  {
   "cell_type": "markdown",
   "metadata": {},
   "source": [
    "#### 我的思路\n",
    "首先，n=1时，一种；n=2时，横着一种，竖着一种，共2种。\n",
    "\n",
    "接下来再考虑，如果是n种，第一块小方块竖着放，则还剩$n-1$列，有$f(n-1)$种摆放方式;如果第一块小方块横着放，则还必须给一块横着放，还有$f(n-2)$种摆放方式。综上所述，依然可以得到:\n",
    "$$f(n) = f(n-1)+f(n-2)$$"
   ]
  },
  {
   "cell_type": "code",
   "execution_count": 76,
   "metadata": {},
   "outputs": [],
   "source": [
    "class Solution:\n",
    "    def rectCover(self, number):\n",
    "        # write code here\n",
    "        if number == 0:\n",
    "            return 0\n",
    "        i = 1\n",
    "        tmp1 = 1\n",
    "        tmp2 = 2\n",
    "        while i < number:\n",
    "            tmp1, tmp2 = tmp2, tmp1+tmp2\n",
    "            i += 1\n",
    "        return tmp1"
   ]
  },
  {
   "cell_type": "code",
   "execution_count": 77,
   "metadata": {},
   "outputs": [
    {
     "data": {
      "text/plain": [
       "34"
      ]
     },
     "execution_count": 77,
     "metadata": {},
     "output_type": "execute_result"
    }
   ],
   "source": [
    "a = Solution()\n",
    "a.rectCover(8)"
   ]
  },
  {
   "cell_type": "code",
   "execution_count": null,
   "metadata": {},
   "outputs": [],
   "source": []
  }
 ],
 "metadata": {
  "kernelspec": {
   "display_name": "Python 3",
   "language": "python",
   "name": "python3"
  },
  "language_info": {
   "codemirror_mode": {
    "name": "ipython",
    "version": 3
   },
   "file_extension": ".py",
   "mimetype": "text/x-python",
   "name": "python",
   "nbconvert_exporter": "python",
   "pygments_lexer": "ipython3",
   "version": "3.7.1"
  }
 },
 "nbformat": 4,
 "nbformat_minor": 2
}
