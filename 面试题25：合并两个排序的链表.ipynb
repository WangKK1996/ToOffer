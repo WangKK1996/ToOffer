{
 "cells": [
  {
   "cell_type": "markdown",
   "metadata": {},
   "source": [
    "输入两个单调递增的链表，输出两个链表合成后的链表，当然我们需要合成后的链表满足单调不减规则。"
   ]
  },
  {
   "cell_type": "markdown",
   "metadata": {},
   "source": [
    "### 我的思路\n",
    "可以设置两个指针，其中一个指针对应a列表，另一个指针对应b列表。\n",
    "\n",
    "以a列表为基准，把b列表向内插入。所以有如下判断准则：\n",
    "1. 如果b指针的数字大于等于a指针的数字，则新生成的先append，a的值，然后a向后挪一位。\n",
    "2. 如果a指针的数字大于b指针的数字，则append，b指针的值，然后b向后挪一位。\n",
    "3. 终止条件：a的next或者b的next为None，这时候则把另一个直接append到生成的链表的后面即可。"
   ]
  },
  {
   "cell_type": "code",
   "execution_count": 56,
   "metadata": {},
   "outputs": [],
   "source": [
    "# -*- coding:utf-8 -*-\n",
    "class ListNode:\n",
    "    def __init__(self, x):\n",
    "        self.val = x\n",
    "        self.next = None\n",
    "class Solution:\n",
    "    # 返回合并后列表\n",
    "    def Merge(self, pHead1, pHead2):\n",
    "        # write code here\n",
    "        a = pHead1\n",
    "        b = pHead2\n",
    "        \n",
    "        if a is None:\n",
    "            return b\n",
    "        if b is None:\n",
    "            return a\n",
    "        \n",
    "        \n",
    "        if a.val > b.val:\n",
    "            merge_head = ListNode(b.val)\n",
    "            b = b.next\n",
    "        else:\n",
    "            merge_head = ListNode(a.val)\n",
    "            a = a.next\n",
    "        tmp = merge_head\n",
    "        while a is not None and b is not None:\n",
    "            if a.val <= b.val:\n",
    "                tmp.next = a\n",
    "                a = a.next\n",
    "            else:\n",
    "                tmp.next = b\n",
    "                b = b.next\n",
    "            tmp = tmp.next\n",
    "        \n",
    "        if a is None:\n",
    "            tmp.next = b\n",
    "        else:\n",
    "            tmp.next = a\n",
    "        \n",
    "        return merge_head"
   ]
  },
  {
   "cell_type": "code",
   "execution_count": 77,
   "metadata": {},
   "outputs": [],
   "source": [
    "a1 = ListNode(1)\n",
    "a2 = ListNode(2)\n",
    "a3 = ListNode(5)\n",
    "a2.next = a3\n",
    "a1.next = a2\n",
    "\n",
    "b1 = ListNode(2)\n",
    "b2 = ListNode(4)\n",
    "b3 = ListNode(6)\n",
    "b2.next = b3\n",
    "b1.next = b2\n"
   ]
  },
  {
   "cell_type": "code",
   "execution_count": null,
   "metadata": {},
   "outputs": [],
   "source": [
    "test = Solution()\n",
    "res = test.Merge(a1,b1)\n",
    "\n",
    "node = res\n",
    "while node is not None:\n",
    "    print(node.val,end = \" \")\n",
    "    node = node.next"
   ]
  },
  {
   "cell_type": "markdown",
   "metadata": {},
   "source": [
    "### 简洁写法\n",
    "这题可以用递归的形式写的更简单，如下："
   ]
  },
  {
   "cell_type": "code",
   "execution_count": 75,
   "metadata": {},
   "outputs": [],
   "source": [
    "# -*- coding:utf-8 -*-\n",
    "class ListNode:\n",
    "    def __init__(self, x):\n",
    "        self.val = x\n",
    "        self.next = None\n",
    "class Solution:\n",
    "    # 返回合并后列表\n",
    "    def Merge(self, pHead1, pHead2):\n",
    "        # write code here\n",
    "        if pHead1 is None:\n",
    "            return pHead2\n",
    "        if pHead2 is None:\n",
    "            return pHead1\n",
    "        \n",
    "        if pHead1.val <= pHead2.val:\n",
    "            merge_head = ListNode(pHead1.val)\n",
    "            merge_head.next = self.Merge(pHead1.next,pHead2)\n",
    "        else:\n",
    "            merge_head = ListNode(pHead2.val)\n",
    "            merge_head.next = self.Merge(pHead1,pHead2.next)        \n",
    "        \n",
    "        return merge_head"
   ]
  },
  {
   "cell_type": "code",
   "execution_count": 78,
   "metadata": {},
   "outputs": [
    {
     "name": "stdout",
     "output_type": "stream",
     "text": [
      "1 2 2 4 5 6 "
     ]
    }
   ],
   "source": [
    "test = Solution()\n",
    "res = test.Merge(a1,b1)\n",
    "\n",
    "node = res\n",
    "while node is not None:\n",
    "    print(node.val,end = \" \")\n",
    "    node = node.next"
   ]
  },
  {
   "cell_type": "code",
   "execution_count": null,
   "metadata": {},
   "outputs": [],
   "source": []
  }
 ],
 "metadata": {
  "kernelspec": {
   "display_name": "Python 3",
   "language": "python",
   "name": "python3"
  },
  "language_info": {
   "codemirror_mode": {
    "name": "ipython",
    "version": 3
   },
   "file_extension": ".py",
   "mimetype": "text/x-python",
   "name": "python",
   "nbconvert_exporter": "python",
   "pygments_lexer": "ipython3",
   "version": "3.7.1"
  }
 },
 "nbformat": 4,
 "nbformat_minor": 2
}
