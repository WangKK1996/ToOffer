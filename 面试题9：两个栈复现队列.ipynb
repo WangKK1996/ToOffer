{
 "cells": [
  {
   "cell_type": "markdown",
   "metadata": {},
   "source": [
    "用两个栈来实现一个队列，完成队列的Push和Pop操作。 队列中的元素为int类型。"
   ]
  },
  {
   "cell_type": "markdown",
   "metadata": {},
   "source": [
    "### 我的思路\n",
    "这道题应该听左神讲过，思路如下：\n",
    "\n",
    "1. 入队时，直接放在第一个栈末尾，然后执行pop到第二个栈中。\n",
    "2. 出队时，从第二个栈pop。"
   ]
  },
  {
   "cell_type": "code",
   "execution_count": 21,
   "metadata": {},
   "outputs": [],
   "source": [
    "# -*- coding:utf-8 -*-\n",
    "class Solution:\n",
    "    def __init__(self):\n",
    "        self.queue = []\n",
    "        self.stack1 = []\n",
    "        self.stack2 = []\n",
    "    \n",
    "    def push(self, node):\n",
    "        self.stack1.append(node)\n",
    "    \n",
    "    def pop(self):\n",
    "        if self.stack2 == [] and self.stack1 != []:\n",
    "#             self.stack2 = self.stack1[::-1] # 直接翻过来\n",
    "#             self.stack1 = [] # 变成空列表\n",
    "        # 上面这种反而更慢不知道为何- -\n",
    "            while self.stack1 != []:\n",
    "                self.stack2.append(self.stack1.pop())\n",
    "        pop = self.stack2.pop()\n",
    "        return pop"
   ]
  },
  {
   "cell_type": "code",
   "execution_count": 26,
   "metadata": {},
   "outputs": [],
   "source": [
    "a = Solution()\n",
    "a.push(1)\n",
    "a.push(2)\n",
    "a.push(0)"
   ]
  },
  {
   "cell_type": "code",
   "execution_count": 27,
   "metadata": {},
   "outputs": [
    {
     "data": {
      "text/plain": [
       "1"
      ]
     },
     "execution_count": 27,
     "metadata": {},
     "output_type": "execute_result"
    }
   ],
   "source": [
    "a.pop()"
   ]
  },
  {
   "cell_type": "markdown",
   "metadata": {},
   "source": [
    "### 同理，用两个队列实现一个栈\n",
    "1. 在弹出时，要保证后进先出。而队列是后进后出的，所以在弹出时，应当把队列里所有的东西依次放到\n",
    "2. 在"
   ]
  },
  {
   "cell_type": "code",
   "execution_count": 38,
   "metadata": {},
   "outputs": [],
   "source": [
    "# 先定义一个队列\n",
    "class queue():\n",
    "    def __init__(self):\n",
    "        self.val = []\n",
    "    \n",
    "    def inqueue(self,val):\n",
    "        self.val.append(val)\n",
    "    \n",
    "    def dequeue(self): #出队\n",
    "        if self.val == []:\n",
    "            raise Exception(\"从空队列出队！\")\n",
    "        out = self.val[0]\n",
    "        self.val = self.val[1::]\n",
    "        return out\n",
    "    \n",
    "    def length(self):\n",
    "        return len(self.val)\n",
    "    \n",
    "    def isempty(self):\n",
    "        if self.val == []:\n",
    "            return True\n",
    "        return False"
   ]
  },
  {
   "cell_type": "code",
   "execution_count": 50,
   "metadata": {},
   "outputs": [],
   "source": [
    "class Solution: \n",
    "    def __init__(self):\n",
    "        self.queue1 = queue()\n",
    "        self.queue2 = queue()\n",
    "    \n",
    "    def push(self,val): # 进栈操作\n",
    "        self.queue1.inqueue(val) # 进栈不需要操作\n",
    "    \n",
    "    def pop(self): # 出栈操作\n",
    "        \n",
    "        while not self.queue1.isempty():\n",
    "            if self.queue1.length() == 1:\n",
    "                out = self.queue1.dequeue()\n",
    "            else:\n",
    "                self.queue2.inqueue(self.queue1.dequeue())\n",
    "\n",
    "        self.queue2, self.queue1 = self.queue1, self.queue2\n",
    "        return out"
   ]
  },
  {
   "cell_type": "code",
   "execution_count": 56,
   "metadata": {},
   "outputs": [],
   "source": [
    "test = Solution()\n",
    "test.push(1)\n",
    "test.push(3)"
   ]
  },
  {
   "cell_type": "code",
   "execution_count": 57,
   "metadata": {},
   "outputs": [
    {
     "name": "stdout",
     "output_type": "stream",
     "text": [
      "3\n",
      "1\n"
     ]
    }
   ],
   "source": [
    "print(test.pop())\n",
    "print(test.pop())"
   ]
  }
 ],
 "metadata": {
  "kernelspec": {
   "display_name": "Python 3",
   "language": "python",
   "name": "python3"
  },
  "language_info": {
   "codemirror_mode": {
    "name": "ipython",
    "version": 3
   },
   "file_extension": ".py",
   "mimetype": "text/x-python",
   "name": "python",
   "nbconvert_exporter": "python",
   "pygments_lexer": "ipython3",
   "version": "3.7.1"
  }
 },
 "nbformat": 4,
 "nbformat_minor": 2
}
