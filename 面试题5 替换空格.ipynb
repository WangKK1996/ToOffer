{
 "cells": [
  {
   "cell_type": "markdown",
   "metadata": {},
   "source": [
    "请实现一个函数，把字符串中的每个空格替换成\"%20\"。"
   ]
  },
  {
   "cell_type": "markdown",
   "metadata": {},
   "source": [
    "### 我的思路\n",
    "这题简单！查找然后填字符串就行了！\n",
    "\n",
    "在牛客网上看到的两种很骚的方法：\n",
    "1. 把string变成list之后，循环，然后重构str\n",
    "2. 直接循环string中的值，如果遇到空格则直接替换。"
   ]
  },
  {
   "cell_type": "code",
   "execution_count": 4,
   "metadata": {},
   "outputs": [],
   "source": [
    "s = \"We are happy\""
   ]
  },
  {
   "cell_type": "code",
   "execution_count": 5,
   "metadata": {},
   "outputs": [],
   "source": [
    "class Solution:\n",
    "    # s 源字符串\n",
    "    def replaceSpace(self, s):\n",
    "        # write code here\n",
    "        s_list = list(s)\n",
    "        for i in range(len(s)):\n",
    "            if s_list[i] == \" \":\n",
    "                s_list[i] = \"%20\"\n",
    "        string = \"\".join(s_list)\n",
    "        return string\n",
    "                \n",
    "        "
   ]
  },
  {
   "cell_type": "code",
   "execution_count": 6,
   "metadata": {},
   "outputs": [],
   "source": [
    "a = Solution()"
   ]
  },
  {
   "cell_type": "code",
   "execution_count": 7,
   "metadata": {},
   "outputs": [
    {
     "data": {
      "text/plain": [
       "'We%20are%20happy'"
      ]
     },
     "execution_count": 7,
     "metadata": {},
     "output_type": "execute_result"
    }
   ],
   "source": [
    "a.replaceSpace(s)"
   ]
  },
  {
   "cell_type": "code",
   "execution_count": null,
   "metadata": {},
   "outputs": [],
   "source": []
  }
 ],
 "metadata": {
  "kernelspec": {
   "display_name": "Python 3",
   "language": "python",
   "name": "python3"
  },
  "language_info": {
   "codemirror_mode": {
    "name": "ipython",
    "version": 3
   },
   "file_extension": ".py",
   "mimetype": "text/x-python",
   "name": "python",
   "nbconvert_exporter": "python",
   "pygments_lexer": "ipython3",
   "version": "3.7.1"
  }
 },
 "nbformat": 4,
 "nbformat_minor": 2
}
