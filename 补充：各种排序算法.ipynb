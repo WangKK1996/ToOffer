{
 "cells": [
  {
   "cell_type": "markdown",
   "metadata": {},
   "source": [
    "## 插入排序\n",
    "插入排序是，把一个数据插入到已经排好序的有序数据中，从而得到一个新的，个数+1的新序列。\n",
    "\n",
    "思路是，每次都取出数列的下一个元素，然后从后往前扫描。\n",
    "\n",
    "如果扫描到的数字大于当前取出的元素，那么扫描的数字往后挪一个。\n",
    "\n",
    "如果扫描到的数字小于或等于当前取出的元素，那么就把该元素放在扫描到的数字的后一个。\n",
    "\n",
    "插入排序的时间复杂度为$O(n^2)$"
   ]
  },
  {
   "cell_type": "code",
   "execution_count": 41,
   "metadata": {},
   "outputs": [],
   "source": [
    "def insertSort(lst):\n",
    "    \"\"\"\n",
    "    用python实现插入排序\n",
    "    \"\"\"\n",
    "    j = 1 # 指当前指针指向的位置\n",
    "    i = j-1 # 指值\n",
    "    while j < len(lst):\n",
    "        curr = lst[j]\n",
    "        while lst[i] >curr and i >=0:\n",
    "            lst[i+1] = lst[i]\n",
    "            i -= 1\n",
    "        # 将数字插入当前组，注意因为i-=1了，所以这里要把i加回去。\n",
    "        lst[i+1] = curr\n",
    "        j += 1\n",
    "        i = j-1\n",
    "    return lst            "
   ]
  },
  {
   "cell_type": "code",
   "execution_count": 54,
   "metadata": {},
   "outputs": [
    {
     "data": {
      "text/plain": [
       "[0, 2, 2, 3, 4]"
      ]
     },
     "execution_count": 54,
     "metadata": {},
     "output_type": "execute_result"
    }
   ],
   "source": [
    "insertSort([0,3,4,2,2])"
   ]
  },
  {
   "cell_type": "code",
   "execution_count": 51,
   "metadata": {},
   "outputs": [],
   "source": [
    "### 网上看到的另一种比较简单的写法：\n",
    "def insertSort_2(lst):\n",
    "    count = len(lst)\n",
    "    for i in range(1,count):\n",
    "        j = i-1\n",
    "        curr = lst[i]\n",
    "        while j >=0:\n",
    "            if curr < lst[j]:\n",
    "                lst[j+1] = lst[j]\n",
    "                lst[j] = curr # 每次都做一次赋值，在常数项上输了，但是写法更简洁\n",
    "            j -= 1\n",
    "    return lst"
   ]
  },
  {
   "cell_type": "code",
   "execution_count": 53,
   "metadata": {},
   "outputs": [
    {
     "data": {
      "text/plain": [
       "[1, 2, 3, 4, 7, 8]"
      ]
     },
     "execution_count": 53,
     "metadata": {},
     "output_type": "execute_result"
    }
   ],
   "source": [
    "insertSort_2([3,4,7,8,2,1])"
   ]
  },
  {
   "cell_type": "code",
   "execution_count": 55,
   "metadata": {},
   "outputs": [],
   "source": [
    "## 综合一下我们俩的写法，改成：\n",
    "def insertSort_3(lst):\n",
    "    count = len(lst)\n",
    "    for j in range(1,count):\n",
    "        i = j-1\n",
    "        curr = lst[j]\n",
    "        while lst[i] > curr and i >= 0:\n",
    "            lst[i+1] = lst[i]\n",
    "            i -= 1\n",
    "        lst[i+1] = curr\n",
    "    return lst"
   ]
  },
  {
   "cell_type": "code",
   "execution_count": 56,
   "metadata": {},
   "outputs": [
    {
     "data": {
      "text/plain": [
       "[1, 2, 3, 4, 7, 8]"
      ]
     },
     "execution_count": 56,
     "metadata": {},
     "output_type": "execute_result"
    }
   ],
   "source": [
    "insertSort_3([3,4,7,8,2,1])"
   ]
  },
  {
   "cell_type": "markdown",
   "metadata": {},
   "source": [
    "### 冒泡排序\n",
    "实际思路是，从第0个元素开始比较，如果前面的值更小，则交换两个数的位置。直到末尾。\n",
    "\n",
    "实际上，它就一种把大数反复往下沉的操作，是一种稳定的排序算法。\n",
    "\n",
    "如果不加处理的话，它是复杂度为$O(n^2)$的算法。"
   ]
  },
  {
   "cell_type": "code",
   "execution_count": 123,
   "metadata": {},
   "outputs": [],
   "source": [
    "def bubbleSort(lst):\n",
    "    count = len(lst)\n",
    "    while count != 0:\n",
    "        for j in range(count-1):\n",
    "            if lst[j] > lst[j+1]:\n",
    "                lst[j], lst[j+1] = lst[j+1],lst[j]\n",
    "        count -= 1\n",
    "    return lst"
   ]
  },
  {
   "cell_type": "code",
   "execution_count": 124,
   "metadata": {},
   "outputs": [
    {
     "data": {
      "text/plain": [
       "[1, 2, 3, 4, 7, 8]"
      ]
     },
     "execution_count": 124,
     "metadata": {},
     "output_type": "execute_result"
    }
   ],
   "source": [
    "bubbleSort([3,4,7,8,2,1])"
   ]
  },
  {
   "cell_type": "markdown",
   "metadata": {},
   "source": [
    "如果对冒泡进行一定的处理，即记录一下交换位置，可以在最好情况下(数组已经全部排好序了）把时间复杂度降到$O(n)$"
   ]
  },
  {
   "cell_type": "code",
   "execution_count": 145,
   "metadata": {},
   "outputs": [],
   "source": [
    "def bubbleSort_2(lst):\n",
    "    count = len(lst)\n",
    "    end = count-1 #表示无序数组的结束位置\n",
    "    while count > 0 and end != 0:\n",
    "        new_end = 0 # 更新new_end的位置\n",
    "        for j in range(count-1):\n",
    "            if lst[j] > lst[j+1]:\n",
    "                lst[j],lst[j+1] = lst[j+1], lst[j]\n",
    "                new_end = j\n",
    "        end = new_end\n",
    "        count -= 1\n",
    "    return lst"
   ]
  },
  {
   "cell_type": "code",
   "execution_count": 146,
   "metadata": {},
   "outputs": [],
   "source": [
    "from time import time\n",
    "import numpy as np"
   ]
  },
  {
   "cell_type": "code",
   "execution_count": 148,
   "metadata": {},
   "outputs": [
    {
     "name": "stdout",
     "output_type": "stream",
     "text": [
      "不加处理，耗时： 12.71175742149353\n",
      "加处理，耗时： 0.0020139217376708984\n"
     ]
    }
   ],
   "source": [
    "test = np.arange(10000)\n",
    "# 随机交换两个位置\n",
    "test[123], test[666] = test[123], test[666]\n",
    "\n",
    "curr = time()\n",
    "res = bubbleSort(test)\n",
    "print(\"不加处理，耗时：\",time()-curr)\n",
    "\n",
    "curr = time()\n",
    "res = bubbleSort_2(test)\n",
    "print(\"加处理，耗时：\",time()-curr)"
   ]
  },
  {
   "cell_type": "markdown",
   "metadata": {},
   "source": [
    "可以发现这种方法对于有序数列可以大大的减少计算量。"
   ]
  },
  {
   "cell_type": "markdown",
   "metadata": {},
   "source": [
    "### QuickSort\n",
    "久闻快排大名。今日得以详见。\n",
    "\n",
    "通过分块，每次都取最后一个数。把小于它的数放在左边，大于它的数放在右边，循环递归这个过程。"
   ]
  },
  {
   "cell_type": "code",
   "execution_count": 309,
   "metadata": {},
   "outputs": [],
   "source": [
    "def quickSort(lst): \n",
    "    if lst == []:\n",
    "        return\n",
    "    i = 0\n",
    "    left = -1\n",
    "    right = len(lst)-1\n",
    "    while i < right and left<right:\n",
    "        if lst[i] < lst[-1]:\n",
    "#             print(\"左\")\n",
    "            i+=1\n",
    "            left += 1             \n",
    "        elif lst[i] == lst[-1]:\n",
    "            i+=1\n",
    "        elif lst[i] > lst[-1]:\n",
    "            right -= 1\n",
    "            print(i,lst)\n",
    "            print(lst[i],\"比%i大，交换%i\"%(lst[-1],lst[right]))\n",
    "            lst[right], lst[i] = lst[i], lst[right]\n",
    "            print(lst)\n",
    "\n",
    "    lst[right],lst[-1] = lst[-1],lst[right]\n",
    "    print()\n",
    "#     print(\"冒泡结束\",left,right,lst)\n",
    "#     print(\"开始左过程\")\n",
    "    quickSort(lst[0:left+1])\n",
    "#     print(\"开始右过程\",right,lst[right+1::])\n",
    "    quickSort(lst[right+1::])\n",
    "    return lst"
   ]
  },
  {
   "cell_type": "code",
   "execution_count": 311,
   "metadata": {},
   "outputs": [
    {
     "name": "stdout",
     "output_type": "stream",
     "text": [
      "0 [4, 1, 3, 6, 2]\n",
      "4 比2大，交换6\n",
      "[6, 1, 3, 4, 2]\n",
      "0 [6, 1, 3, 4, 2]\n",
      "6 比2大，交换3\n",
      "[3, 1, 6, 4, 2]\n",
      "0 [3, 1, 6, 4, 2]\n",
      "3 比2大，交换1\n",
      "[1, 3, 6, 4, 2]\n",
      "\n",
      "冒泡结束 0 1 [1, 2, 6, 4, 3]\n",
      "开始左过程\n",
      "\n",
      "冒泡结束 -1 0 [1]\n",
      "开始左过程\n",
      "开始右过程 0 []\n",
      "开始右过程 1 [6, 4, 3]\n",
      "0 [6, 4, 3]\n",
      "6 比3大，交换4\n",
      "[4, 6, 3]\n",
      "0 [4, 6, 3]\n",
      "4 比3大，交换4\n",
      "[4, 6, 3]\n",
      "\n",
      "冒泡结束 -1 0 [3, 6, 4]\n",
      "开始左过程\n",
      "开始右过程 0 [6, 4]\n",
      "0 [6, 4]\n",
      "6 比4大，交换6\n",
      "[6, 4]\n",
      "\n",
      "冒泡结束 -1 0 [4, 6]\n",
      "开始左过程\n",
      "开始右过程 0 [6]\n",
      "\n",
      "冒泡结束 -1 0 [6]\n",
      "开始左过程\n",
      "开始右过程 0 []\n"
     ]
    },
    {
     "data": {
      "text/plain": [
       "[1, 2, 6, 4, 3]"
      ]
     },
     "execution_count": 311,
     "metadata": {},
     "output_type": "execute_result"
    }
   ],
   "source": [
    "lst = [4,1,3,6,2]\n",
    "quickSort(lst)"
   ]
  },
  {
   "cell_type": "markdown",
   "metadata": {},
   "source": [
    "虽然每个part的分块是对了，但是最后的结果不对，原因是在切片的时候，数组被复制而不是连接到原来的数组上了。"
   ]
  },
  {
   "cell_type": "code",
   "execution_count": 6,
   "metadata": {},
   "outputs": [
    {
     "name": "stdout",
     "output_type": "stream",
     "text": [
      "[2, 1] [1, 2, 3, 6, 5]\n"
     ]
    }
   ],
   "source": [
    "lst = [1,2,3,6,5]\n",
    "a = lst[0:2]\n",
    "a[0],a[1] = a[1],a[0]\n",
    "print(a,lst)"
   ]
  },
  {
   "cell_type": "markdown",
   "metadata": {},
   "source": [
    "可以看出来两者是复制，没有指向同一个内存，所以上面这样写是肯定不得行的，要改"
   ]
  },
  {
   "cell_type": "code",
   "execution_count": 85,
   "metadata": {},
   "outputs": [],
   "source": [
    "def quickSort_2(lst,L,R):\n",
    "    \"\"\"\n",
    "    L和R划定需要排序的范围。\n",
    "    \"\"\"\n",
    "    ### 划定等于区域\n",
    "    if L > R:\n",
    "        ## 如果没有等于区域，则直接返回。（这是一个边界条件）\n",
    "        return\n",
    "    if len(lst) == 0 or len(lst) == 1:\n",
    "        return lst\n",
    "    equal = partition(lst, L,R)\n",
    "    print(equal)\n",
    "    quickSort_2(lst,L,equal[0]-1)\n",
    "    quickSort_2(lst, equal[1]+1, R)\n",
    "    return lst\n",
    "    \n",
    "def partition(lst, L, R):\n",
    "    \n",
    "    less = L-1\n",
    "    more = R\n",
    "    # 在partion这个函数底下做划分。\n",
    "    while L < more:\n",
    "        if lst[L] < lst[R]:\n",
    "            less += 1\n",
    "            lst[L],lst[less] = lst[less],lst[L]\n",
    "            L += 1\n",
    "        elif lst[L] == lst[R]:\n",
    "            L += 1\n",
    "        else :\n",
    "            more -= 1\n",
    "            lst[L],lst[more] = lst[more],lst[L]\n",
    "    lst[R],lst[more] = lst[more], lst[R]\n",
    "    more += 1\n",
    "    return less+1, more"
   ]
  },
  {
   "cell_type": "code",
   "execution_count": 87,
   "metadata": {},
   "outputs": [
    {
     "name": "stdout",
     "output_type": "stream",
     "text": [
      "(2, 3)\n",
      "(0, 1)\n"
     ]
    },
    {
     "data": {
      "text/plain": [
       "[1, 2, 3, 4]"
      ]
     },
     "execution_count": 87,
     "metadata": {},
     "output_type": "execute_result"
    }
   ],
   "source": [
    "quickSort_2([4,1,2,3],0,3)"
   ]
  },
  {
   "cell_type": "markdown",
   "metadata": {},
   "source": [
    "这一版还可以实现数组的指定范围内排序~"
   ]
  },
  {
   "cell_type": "code",
   "execution_count": null,
   "metadata": {},
   "outputs": [],
   "source": []
  }
 ],
 "metadata": {
  "kernelspec": {
   "display_name": "Python 3",
   "language": "python",
   "name": "python3"
  },
  "language_info": {
   "codemirror_mode": {
    "name": "ipython",
    "version": 3
   },
   "file_extension": ".py",
   "mimetype": "text/x-python",
   "name": "python",
   "nbconvert_exporter": "python",
   "pygments_lexer": "ipython3",
   "version": "3.7.1"
  }
 },
 "nbformat": 4,
 "nbformat_minor": 2
}
