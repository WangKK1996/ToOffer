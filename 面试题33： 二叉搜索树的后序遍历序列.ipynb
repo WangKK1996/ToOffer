{
 "cells": [
  {
   "cell_type": "markdown",
   "metadata": {},
   "source": [
    "输入一个整数数组，判断该数组是不是某二叉搜索树的后序遍历的结果。如果是则输出Yes,否则输出No。假设输入的数组的任意两个数字都互不相同。"
   ]
  },
  {
   "cell_type": "markdown",
   "metadata": {},
   "source": [
    "### 二叉搜索树\n",
    "**【来自维基百科】**二叉查找树（Binary Search Tree），（又：二叉搜索树，二叉排序树）它或者是一棵空树，或者是具有下列性质的二叉树： 若它的左子树不空，则左子树上所有结点的值均小于它的根结点的值； 若它的右子树不空，则右子树上所有结点的值均大于它的根结点的值； 它的左、右子树也分别为二叉排序树。"
   ]
  },
  {
   "cell_type": "markdown",
   "metadata": {},
   "source": [
    "### 书上的思路\n",
    "由于后序遍历的最后一个节点是根节点，所以往前推，如果倒数第二个节点比它小，则它一定在树的左结点，否则在它的右节点。\n",
    "\n",
    "可以用递归的方法来判断。比它小的数字一定都在一边，比它大的数字在另一边。得到这两个子序列之后，递归地判断是不是子序列都满足这个条件，直到序列为空。\n",
    "\n",
    "### 我的思路\n",
    "这有点像快排，是一个二分问题，唯一的区别是返回值。"
   ]
  },
  {
   "cell_type": "code",
   "execution_count": 78,
   "metadata": {},
   "outputs": [],
   "source": [
    "# -*- coding:utf-8 -*-\n",
    "class Solution:\n",
    "    def VerifySquenceOfBST(self, sequence):\n",
    "        # write code here\n",
    "        if sequence == []:\n",
    "            return False\n",
    "        if len(sequence) == 1:\n",
    "            return True\n",
    "        \n",
    "        curr = 0\n",
    "        while sequence[curr] < sequence[-1]:\n",
    "            curr += 1\n",
    "            \n",
    "        for i in range(curr):\n",
    "            if sequence[i] > sequence[-1]:\n",
    "                return False\n",
    "        for i in range(curr,len(sequence)-1):\n",
    "            if sequence[i] < sequence[-1]:\n",
    "                return False\n",
    "        \n",
    "        # 这里的位运算是为了防止出现序列为[]的情况，\n",
    "        # 保证子序列为[]时结果为True，而主序列为[]时结果False\n",
    "        return( self.VerifySquenceOfBST(sequence[0:curr])^(curr==0))  & \\\n",
    "    (self.VerifySquenceOfBST(sequence[curr:-1])^(curr==len(sequence)-1))\n",
    "    \n",
    "        "
   ]
  },
  {
   "cell_type": "code",
   "execution_count": 77,
   "metadata": {},
   "outputs": [
    {
     "data": {
      "text/plain": [
       "True"
      ]
     },
     "execution_count": 77,
     "metadata": {},
     "output_type": "execute_result"
    }
   ],
   "source": [
    "a = Solution()\n",
    "a.VerifySquenceOfBST([2,1])"
   ]
  },
  {
   "cell_type": "code",
   "execution_count": null,
   "metadata": {},
   "outputs": [],
   "source": []
  }
 ],
 "metadata": {
  "kernelspec": {
   "display_name": "Python 3",
   "language": "python",
   "name": "python3"
  },
  "language_info": {
   "codemirror_mode": {
    "name": "ipython",
    "version": 3
   },
   "file_extension": ".py",
   "mimetype": "text/x-python",
   "name": "python",
   "nbconvert_exporter": "python",
   "pygments_lexer": "ipython3",
   "version": "3.7.1"
  }
 },
 "nbformat": 4,
 "nbformat_minor": 2
}
