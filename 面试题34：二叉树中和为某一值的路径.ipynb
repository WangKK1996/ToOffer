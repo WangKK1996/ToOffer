{
 "cells": [
  {
   "cell_type": "markdown",
   "metadata": {},
   "source": [
    "输入一颗二叉树的跟节点和一个整数，打印出二叉树中结点值的和为输入整数的所有路径。路径定义为从树的根结点开始往下一直到叶结点所经过的结点形成一条路径。(注意: 在返回值的list中，数组长度大的数组靠前)"
   ]
  },
  {
   "cell_type": "markdown",
   "metadata": {},
   "source": [
    "### 我的思路\n",
    "\n",
    "设计一个栈，操作分为以下三步：\n",
    "\n",
    "判断条件：当前和不等于原节点&当前节点不等于空\n",
    "1. 把当前节点的值加到curr上，并把节点压入栈，curr到当前节点的左结点\n",
    "2. 当前节点是空时，则从栈里弹出一个，已知的和减去节点的值，指针指向弹出节点的右节点，继续循环；\n",
    "3. 如果有和相等的情况，则保存当前栈，然后继续循环。"
   ]
  },
  {
   "cell_type": "code",
   "execution_count": 47,
   "metadata": {},
   "outputs": [],
   "source": [
    "# -*- coding:utf-8 -*-\n",
    "class BinTNode:\n",
    "    def __init__(self,x,left=None,right=None):\n",
    "        self.val = x\n",
    "        self.left = left\n",
    "        self.right = right\n",
    "class Solution:\n",
    "    # 返回二维列表，内部每个列表表示找到的路径\n",
    "    def FindPath(self, root, expectNumber):\n",
    "        # write code here\n",
    "        if root is None:\n",
    "            return []\n",
    "        \n",
    "        stack = [] # 辅助栈\n",
    "        out_lst = [] # 返回的路径列表\n",
    "        curr = root\n",
    "        sum_num = 0\n",
    "        \n",
    "        while stack != [] or curr is not None:\n",
    "            sum_num += curr.val\n",
    "            stack.append(curr)\n",
    "            curr = curr.left\n",
    "                \n",
    "            if sum_num == expectNumber:\n",
    "                out_lst.append(stack.copy())\n",
    "                curr = stack.pop()\n",
    "                sum_num -= curr.val\n",
    "                curr = curr.right\n",
    "            \n",
    "            ### 这一段老是解决不了,用书上的递归方式写了\n",
    "            while curr is None and stack != []:\n",
    "                times = 0    \n",
    "\n",
    "                if curr is None and stack != [] and times == 0:\n",
    "                    curr = stack.pop()\n",
    "                    sum_num -= curr.val\n",
    "                    curr = curr.right\n",
    "                    times += 1\n",
    "                else:\n",
    "                    \n",
    "                    curr = stack[-1].right\n",
    "#                     print(\"test\",times,stack[-1])\n",
    "            \n",
    "                \n",
    "\n",
    "        return out_lst\n",
    "    \n",
    "    def isLeaf(self,node): \n",
    "        if node is None:\n",
    "            return True\n",
    "        if node.left is None and node.right is None:\n",
    "            return True\n",
    "        else:\n",
    "            return False\n",
    "                \n",
    "#         res_lst = self.sortRes(out_lst)\n",
    "#         return res_lst\n",
    "        \n",
    "#     def sortRes(self,out_lst):\n",
    "#         if out_lst == []:\n",
    "#             return []\n",
    "#         len_lst = [len(lst) for lst in out_lst]\n",
    "        \n",
    "#         max_len = -1\n",
    "        \n",
    "                \n",
    "                \n",
    "            "
   ]
  },
  {
   "cell_type": "code",
   "execution_count": 48,
   "metadata": {},
   "outputs": [],
   "source": [
    "# 构造一颗二叉树\n",
    "t = BinTNode(1,BinTNode(2,BinTNode(4),BinTNode(5)),BinTNode(3,BinTNode(6),BinTNode(7)))"
   ]
  },
  {
   "cell_type": "code",
   "execution_count": 49,
   "metadata": {},
   "outputs": [],
   "source": [
    "# a = Solution()\n",
    "# res = a.FindPath(t,7)"
   ]
  },
  {
   "cell_type": "markdown",
   "metadata": {},
   "source": [
    "### 书上的编程"
   ]
  },
  {
   "cell_type": "code",
   "execution_count": 98,
   "metadata": {},
   "outputs": [],
   "source": [
    "# -*- coding:utf-8 -*-\n",
    "class BinTNode:\n",
    "    def __init__(self,x,left=None,right=None):\n",
    "        self.val = x\n",
    "        self.left = left\n",
    "        self.right = right\n",
    "class Solution:\n",
    "    # 返回二维列表，内部每个列表表示找到的路径\n",
    "    def FindPath(self, root, expectNumber):\n",
    "        # write code here\n",
    "        if root is None:\n",
    "            return []\n",
    "        \n",
    "        currSum = 0\n",
    "        path = []\n",
    "        res = []\n",
    "        res,path= self.FindPathCore(root, expectNumber,path,currSum,res)\n",
    "        res.sort(key = len,reverse = True) # 这一步是为了满足返回条件写的\n",
    "        return res\n",
    "    \n",
    "    stack = []\n",
    "    def FindPathCore(self,pRoot,expectNumber,path,currSum,res):\n",
    "        \"\"\"\n",
    "        找出路径\n",
    "        \"\"\"\n",
    "        currSum += pRoot.val\n",
    "        path.append(pRoot.val)\n",
    "        if currSum == expectNumber and self.isLeaf(pRoot):\n",
    "            res.append(path.copy())\n",
    "        if pRoot.left is not None:\n",
    "            res,path = self.FindPathCore(pRoot.left, expectNumber,path,currSum,res)\n",
    "        if pRoot.right is not None:\n",
    "            res,path = self.FindPathCore(pRoot.right, expectNumber,path,currSum,res)\n",
    "        path.pop()\n",
    "        return res,path\n",
    "            \n",
    "    \n",
    "    def isLeaf(self,node):\n",
    "        if node.left is None and node.right is None:\n",
    "            return True\n",
    "        else:\n",
    "            return False\n",
    "    \n",
    "    def sortRes(self,res):\n",
    "        length = [len(path) for path in res]\n",
    "        \n",
    "        \n",
    "        \n",
    "    \n",
    "\n",
    "        \n",
    "                \n",
    "                \n",
    "            "
   ]
  },
  {
   "cell_type": "code",
   "execution_count": 99,
   "metadata": {},
   "outputs": [],
   "source": [
    "# 构造一颗二叉树\n",
    "t = BinTNode(1,BinTNode(2,BinTNode(4),BinTNode(5)),BinTNode(3,BinTNode(6),BinTNode(7)))"
   ]
  },
  {
   "cell_type": "code",
   "execution_count": 106,
   "metadata": {},
   "outputs": [],
   "source": [
    "a = Solution()\n",
    "res = a.FindPath(t,3)"
   ]
  },
  {
   "cell_type": "code",
   "execution_count": 107,
   "metadata": {},
   "outputs": [
    {
     "data": {
      "text/plain": [
       "[[1, 2]]"
      ]
     },
     "execution_count": 107,
     "metadata": {},
     "output_type": "execute_result"
    }
   ],
   "source": [
    "res"
   ]
  },
  {
   "cell_type": "code",
   "execution_count": null,
   "metadata": {},
   "outputs": [],
   "source": []
  }
 ],
 "metadata": {
  "kernelspec": {
   "display_name": "Python 3",
   "language": "python",
   "name": "python3"
  },
  "language_info": {
   "codemirror_mode": {
    "name": "ipython",
    "version": 3
   },
   "file_extension": ".py",
   "mimetype": "text/x-python",
   "name": "python",
   "nbconvert_exporter": "python",
   "pygments_lexer": "ipython3",
   "version": "3.7.1"
  }
 },
 "nbformat": 4,
 "nbformat_minor": 2
}
