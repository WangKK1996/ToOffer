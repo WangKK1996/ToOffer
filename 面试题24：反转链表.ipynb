{
 "cells": [
  {
   "cell_type": "markdown",
   "metadata": {},
   "source": [
    "输入一个链表，反转链表后，输出新链表的表头。"
   ]
  },
  {
   "cell_type": "markdown",
   "metadata": {},
   "source": [
    "### 我的思路\n",
    "我觉得这个可以设置三个指针\n",
    "1. curr当前指针\n",
    "2. next当前指针的下一个指针\n",
    "3. pre当前指针的上一个指针。\n",
    "\n",
    "\n",
    "* 首先，`next = curr.next`\n",
    "* 然后，`curr.next = pre`\n",
    "* 更新：`pre = curr,curr = next`\n",
    "终止条件，next= None\n",
    "\n",
    "注意鲁棒性：\n",
    "1. 只有1个节点\n",
    "2. 只有2个节点\n",
    "\n",
    "\n"
   ]
  },
  {
   "cell_type": "code",
   "execution_count": 4,
   "metadata": {},
   "outputs": [],
   "source": [
    "# -*- coding:utf-8 -*-\n",
    "# class ListNode:\n",
    "#     def __init__(self, x):\n",
    "#         self.val = x\n",
    "#         self.next = None\n",
    "class Solution:\n",
    "    # 返回ListNode\n",
    "    def ReverseList(self, pHead):\n",
    "        # write code here        \n",
    "        pre = None\n",
    "        curr = pHead\n",
    "        head= None\n",
    "        while curr is not None:\n",
    "            nxt = curr.next\n",
    "            if nxt is None:\n",
    "                head = curr\n",
    "            curr.next = pre\n",
    "            pre = curr\n",
    "            curr = nxt\n",
    "        return head\n",
    "        "
   ]
  },
  {
   "cell_type": "code",
   "execution_count": 3,
   "metadata": {},
   "outputs": [
    {
     "name": "stdout",
     "output_type": "stream",
     "text": [
      "1\n",
      "1\n",
      "2\n",
      "2\n"
     ]
    }
   ],
   "source": [
    "i = 0\n",
    "j = 0\n",
    "while i != 2:\n",
    "    i+=1\n",
    "    print(i)\n",
    "    j+=1\n",
    "    print(j)\n",
    "    "
   ]
  },
  {
   "cell_type": "code",
   "execution_count": null,
   "metadata": {},
   "outputs": [],
   "source": []
  }
 ],
 "metadata": {
  "kernelspec": {
   "display_name": "Python 3",
   "language": "python",
   "name": "python3"
  },
  "language_info": {
   "codemirror_mode": {
    "name": "ipython",
    "version": 3
   },
   "file_extension": ".py",
   "mimetype": "text/x-python",
   "name": "python",
   "nbconvert_exporter": "python",
   "pygments_lexer": "ipython3",
   "version": "3.7.1"
  }
 },
 "nbformat": 4,
 "nbformat_minor": 2
}
