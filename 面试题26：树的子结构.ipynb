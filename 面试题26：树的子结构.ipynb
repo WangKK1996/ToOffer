{
 "cells": [
  {
   "cell_type": "markdown",
   "metadata": {},
   "source": [
    "输入两棵二叉树A，B，判断B是不是A的子结构。（ps：我们约定空树不是任意一个树的子结构）"
   ]
  },
  {
   "cell_type": "markdown",
   "metadata": {},
   "source": [
    "### 书上的思路：\n",
    "1. 从A中找和B的根节点相同的值，实际上就是二叉树的遍历（递归即可）\n",
    "2. 如果True,则然后再判断该节点的子节点和B的子节点是否相同。（两棵树同时遍历）"
   ]
  },
  {
   "cell_type": "code",
   "execution_count": 6,
   "metadata": {},
   "outputs": [],
   "source": [
    "# -*- coding:utf-8 -*-\n",
    "class TreeNode:\n",
    "    def __init__(self, x):\n",
    "        self.val = x\n",
    "        self.left = None\n",
    "        self.right = None\n",
    "class Solution:\n",
    "    def HasSubtree(self, pRoot1, pRoot2):\n",
    "        # write code here\n",
    "        # 二叉树的前序遍历，非递归实现\n",
    "        if pRoot1 is None or pRoot2 is None:\n",
    "            return False\n",
    "        res = False\n",
    "        if pRoot1.val == pRoot2.val:\n",
    "            res = self.HasSubtreeCore(pRoot1,pRoot2)\n",
    "        if not res:\n",
    "            res = self.HasSubtreeCore(pRoot1.left,pRoot2)\n",
    "        if not res:\n",
    "            res = self.HasSubtreeCore(pRoot1.right,pRoot2)\n",
    "        return res\n",
    "    \n",
    "    def HasSubtreeCore(self,pRoot1,pRoot2):\n",
    "        if pRoot2 is None:\n",
    "            return True\n",
    "        if pRoot1 is None:\n",
    "            return False\n",
    "\n",
    "        if pRoot1.val != pRoot2.val:\n",
    "            return False\n",
    "        \n",
    "        return self.HasSubtreeCore(pRoot1.left, pRoot2.left) & self.HasSubtreeCore(pRoot1.right, pRoot2.right)\n",
    "        \n",
    "        \n",
    "        "
   ]
  },
  {
   "cell_type": "code",
   "execution_count": null,
   "metadata": {},
   "outputs": [],
   "source": []
  }
 ],
 "metadata": {
  "kernelspec": {
   "display_name": "Python 3",
   "language": "python",
   "name": "python3"
  },
  "language_info": {
   "codemirror_mode": {
    "name": "ipython",
    "version": 3
   },
   "file_extension": ".py",
   "mimetype": "text/x-python",
   "name": "python",
   "nbconvert_exporter": "python",
   "pygments_lexer": "ipython3",
   "version": "3.7.1"
  }
 },
 "nbformat": 4,
 "nbformat_minor": 2
}
