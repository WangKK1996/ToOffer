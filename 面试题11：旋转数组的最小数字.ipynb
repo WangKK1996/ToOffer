{
 "cells": [
  {
   "cell_type": "markdown",
   "metadata": {},
   "source": [
    "把一个数组最开始的若干个元素搬到数组的末尾，我们称之为数组的旋转。 输入一个非减排序的数组的一个旋转，输出旋转数组的最小元素。 例如数组${3,4,5,1,2}$为${1,2,3,4,5}$的一个旋转，该数组的最小值为1。\n",
    "\n",
    "NOTE：给出的所有元素都大于0，若数组大小为0，请返回0。"
   ]
  },
  {
   "cell_type": "markdown",
   "metadata": {},
   "source": [
    "### 我的思路\n",
    "可以采用二分法方法。指针分别指向数列的开头和末尾。在正常情况下，第一个指针应该$\\ge$最后一个元素（除非这个数组没有旋转。）\n",
    "\n",
    "就着这个思路，我们可以采用二分法：\n",
    "1. 找到这个数组中间的数，如果这个数字大于第一个指针，说明最小的数字在后半部分，第一个指针挪到中间位置的后一个位置上。\n",
    "2. 如果中间的数字小于第一个指针，说明最小的部分在前半部分，所以把第二个指针挪到中间这个指针上（不能往前一个，有可能这个指针指向的就是最小的那个部分。）"
   ]
  },
  {
   "cell_type": "code",
   "execution_count": 52,
   "metadata": {},
   "outputs": [],
   "source": [
    "class Solution:\n",
    "    def minNumberInRotateArray(self, rotateArray):\n",
    "        # write code here\n",
    "        if len(rotateArray) == 0:\n",
    "            return 0\n",
    "        \n",
    "        start = 0\n",
    "        end = len(rotateArray)-1\n",
    "        mid = int((start + end)/2)\n",
    "        \n",
    "        while end-start != 1:\n",
    "            # 特殊情况，如果数组是直接升序的，可以直接返回\n",
    "            if rotateArray[start] < rotateArray[end]:\n",
    "                return rotateArray[start]\n",
    "            if rotateArray[mid] >= rotateArray[start]:\n",
    "                start= mid \n",
    "                mid = int((start + end)/2)\n",
    "            else:\n",
    "                end = mid\n",
    "                mid = int((start + end)/2)\n",
    "#             print(\"idx\",start,mid,end)\n",
    "#             print(\"num\",rotateArray[start],rotateArray[mid],rotateArray[end])\n",
    "        return rotateArray[end]\n",
    "    "
   ]
  },
  {
   "cell_type": "code",
   "execution_count": 57,
   "metadata": {},
   "outputs": [
    {
     "data": {
      "text/plain": [
       "2"
      ]
     },
     "execution_count": 57,
     "metadata": {},
     "output_type": "execute_result"
    }
   ],
   "source": [
    "a = Solution()\n",
    "a.minNumberInRotateArray([4,4,4,2,2,4])"
   ]
  },
  {
   "cell_type": "code",
   "execution_count": null,
   "metadata": {},
   "outputs": [],
   "source": []
  }
 ],
 "metadata": {
  "kernelspec": {
   "display_name": "Python 3",
   "language": "python",
   "name": "python3"
  },
  "language_info": {
   "codemirror_mode": {
    "name": "ipython",
    "version": 3
   },
   "file_extension": ".py",
   "mimetype": "text/x-python",
   "name": "python",
   "nbconvert_exporter": "python",
   "pygments_lexer": "ipython3",
   "version": "3.7.1"
  }
 },
 "nbformat": 4,
 "nbformat_minor": 2
}
