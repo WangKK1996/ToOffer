{
 "cells": [
  {
   "cell_type": "markdown",
   "metadata": {},
   "source": [
    "### 题目\n",
    "请设计一个函数，用来判断在一个矩阵中是否存在一条包含某字符串所有字符的路径。路径可以从矩阵中的任意一个格子开始，每一步可以在矩阵中向左，向右，向上，向下移动一个格子。如果一条路径经过了矩阵中的某一个格子，则之后不能再次进入这个格子。 例如 \n",
    "$$\\begin{matrix}\n",
    "a&\\underline{b}& c& e \\\\\n",
    "s& \\underline{f} &\\underline{c} &s \\\\\n",
    "a &d &\\underline{e} &e\n",
    "\\end{matrix}$$ \n",
    "这样的3 X 4 矩阵中包含一条字符串\"bfce\"的路径，但是矩阵中不包含\"abfb\"路径，因为字符串的第一个字符b占据了矩阵中的第一行第二个格子之后，路径不能再次进入该格子。"
   ]
  },
  {
   "cell_type": "markdown",
   "metadata": {},
   "source": [
    "### 回溯法\n",
    "回溯法说的是，从解决问题的每一步的所有可能选项里系统地选择出一个可行的解决方法。适合由多个步骤组成的问题，且每个步骤都有多个选项。\n",
    "\n",
    "用回溯法解决的问题的所有选项可以用树状结构来表示。在某一步如果有n个可能的选项，那么这个步骤就是树状结构中的一个节点，每个选项看成树种节点的连接线。经过这些连接线到达该节点的n个子节点，子节点延伸到叶节点，到叶节点则代表状态终止。如果叶节点的状态满足题目的约束条件，就找到了一个可行的解决方案。"
   ]
  },
  {
   "cell_type": "code",
   "execution_count": 56,
   "metadata": {},
   "outputs": [],
   "source": [
    "import numpy as np"
   ]
  },
  {
   "cell_type": "code",
   "execution_count": 95,
   "metadata": {},
   "outputs": [],
   "source": [
    "class Solution:\n",
    "    def hasPath(self, matrix, rows, cols, path):\n",
    "        # write code here\n",
    "        if matrix == [] or rows < 1 or cols <1 or path == \"\":\n",
    "            return False\n",
    "        visited = [False]*(rows*cols)\n",
    "        \n",
    "        path_length = 0\n",
    "        for row in range(rows):\n",
    "            for col in range(cols):\n",
    "                if self.hasPathCore(matrix, rows, cols, row, col, path, path_length, visited):\n",
    "                    return True\n",
    "        \n",
    "        return False\n",
    "        \n",
    "    def hasPathCore(self, matrix, rows, cols, row, col, path, path_length, visited):\n",
    "        \"\"\"\n",
    "        副函数,输入指定的path_length，查找是否存在到达下一步的点\n",
    "        \"\"\"\n",
    "        if path_length == len(path):\n",
    "            return True\n",
    "        \n",
    "        hasPath = False\n",
    "        if row >= 0 and row < rows and col >= 0 and col < cols \\\n",
    "        and matrix[row*cols + col] == path[path_length] and \\\n",
    "        not visited[row*cols+col]:\n",
    "            path_length += 1\n",
    "            visited[row*cols + col] = True\n",
    "#             print(np.array(visited).reshape(rows,cols)*1,\"\\n\")\n",
    "\n",
    "            hasPath = self.hasPathCore(matrix, rows, cols, row, col-1, path,path_length,visited) |\\\n",
    "                      self.hasPathCore(matrix, rows, cols, row-1, col, path,path_length,visited) |\\\n",
    "                      self.hasPathCore(matrix, rows, cols, row, col+1, path,path_length,visited) |\\\n",
    "                      self.hasPathCore(matrix, rows, cols, row+1, col, path,path_length,visited)\n",
    "            # 这个东西为什么会被嵌在里面？\n",
    "            if not hasPath:\n",
    "                path_length -= 1\n",
    "                visited[row*cols + col] = False\n",
    "        \n",
    "        \n",
    "        \n",
    "        return hasPath\n",
    "                \n",
    "            "
   ]
  },
  {
   "cell_type": "code",
   "execution_count": 96,
   "metadata": {},
   "outputs": [
    {
     "name": "stdout",
     "output_type": "stream",
     "text": [
      "[['A' 'B' 'C' 'E' 'H' 'J' 'I' 'G']\n",
      " ['S' 'F' 'C' 'S' 'L' 'O' 'P' 'Q']\n",
      " ['A' 'D' 'E' 'E' 'M' 'N' 'O' 'E']\n",
      " ['A' 'D' 'I' 'D' 'E' 'J' 'F' 'M']\n",
      " ['V' 'C' 'E' 'I' 'F' 'G' 'G' 'S']]\n"
     ]
    }
   ],
   "source": [
    "print(np.array(list(\"ABCEHJIGSFCSLOPQADEEMNOEADIDEJFMVCEIFGGS\")).reshape(5,8))"
   ]
  },
  {
   "cell_type": "code",
   "execution_count": 97,
   "metadata": {},
   "outputs": [
    {
     "data": {
      "text/plain": [
       "True"
      ]
     },
     "execution_count": 97,
     "metadata": {},
     "output_type": "execute_result"
    }
   ],
   "source": [
    "a = Solution()\n",
    "a.hasPath(\"ABCEHJIGSFCSLOPQADEEMNOEADIDEJFMVCEIFGGS\",5,8,\"SGGFIECVAASABCEHJIGQEM\")"
   ]
  }
 ],
 "metadata": {
  "kernelspec": {
   "display_name": "Python 3",
   "language": "python",
   "name": "python3"
  },
  "language_info": {
   "codemirror_mode": {
    "name": "ipython",
    "version": 3
   },
   "file_extension": ".py",
   "mimetype": "text/x-python",
   "name": "python",
   "nbconvert_exporter": "python",
   "pygments_lexer": "ipython3",
   "version": "3.7.1"
  }
 },
 "nbformat": 4,
 "nbformat_minor": 2
}
