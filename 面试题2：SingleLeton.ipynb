{
 "cells": [
  {
   "cell_type": "markdown",
   "metadata": {},
   "source": [
    "### 题目：SingleLeton\n",
    "SingleLeton（单例模式）是设计模式的一种，具体就是指是实现一个类，只能创建该类的一个实例。\n",
    "\n",
    "在python模式中，可以直接用`__new__`方法创建,这个方法就是直接创建实例。"
   ]
  },
  {
   "cell_type": "code",
   "execution_count": 18,
   "metadata": {},
   "outputs": [],
   "source": [
    "class SingleTon(object):\n",
    "      _instance = {}\n",
    "  \n",
    "      def __new__(cls, *args, **kwargs):\n",
    "        if cls not in cls._instance:\n",
    "            cls._instance[cls] = super(SingleTon, cls).__new__(cls, *args, **kwargs)\n",
    "        print (cls._instance)\n",
    "        return cls._instance[cls]\n",
    "  \n",
    " \n",
    "class MyClass(SingleTon):\n",
    "     class_val = 22"
   ]
  },
  {
   "cell_type": "code",
   "execution_count": 19,
   "metadata": {},
   "outputs": [
    {
     "name": "stdout",
     "output_type": "stream",
     "text": [
      "{<class '__main__.SingleTon'>: <__main__.SingleTon object at 0x00000227D6C00470>}\n",
      "{<class '__main__.SingleTon'>: <__main__.SingleTon object at 0x00000227D6C00470>}\n"
     ]
    }
   ],
   "source": [
    "a = SingleTon()\n",
    "b = SingleTon()"
   ]
  },
  {
   "cell_type": "code",
   "execution_count": 20,
   "metadata": {
    "scrolled": true
   },
   "outputs": [
    {
     "name": "stdout",
     "output_type": "stream",
     "text": [
      "True\n"
     ]
    }
   ],
   "source": [
    "print(a is b)"
   ]
  },
  {
   "cell_type": "markdown",
   "metadata": {},
   "source": [
    "可以看出，a和b都是同一个存储地址，整个系统中的确只有这一个实例"
   ]
  },
  {
   "cell_type": "markdown",
   "metadata": {},
   "source": [
    "需要补充知识点：\n",
    "* 设计模式\n",
    "* args和kwargs到底怎么用？\n",
    "* [代码参考](http://www.cnblogs.com/qiaojushuang/p/7805973.html)"
   ]
  }
 ],
 "metadata": {
  "kernelspec": {
   "display_name": "Python 3",
   "language": "python",
   "name": "python3"
  },
  "language_info": {
   "codemirror_mode": {
    "name": "ipython",
    "version": 3
   },
   "file_extension": ".py",
   "mimetype": "text/x-python",
   "name": "python",
   "nbconvert_exporter": "python",
   "pygments_lexer": "ipython3",
   "version": "3.7.1"
  }
 },
 "nbformat": 4,
 "nbformat_minor": 2
}
