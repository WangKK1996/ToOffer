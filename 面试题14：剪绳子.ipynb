{
 "cells": [
  {
   "cell_type": "markdown",
   "metadata": {},
   "source": [
    "给一根长度为n的绳子，把绳子剪成m段（m,n都是整数，n>1,m>1），每段绳子长度记为$k[0],k[1],...,k[m]$，为$k[0]\\times k[1]\\times...\\times k[m]$可能的最大乘积是多少？(注意m是不指定的，只是要求它必须大于1）"
   ]
  },
  {
   "cell_type": "markdown",
   "metadata": {},
   "source": [
    "### 动态规划\n",
    "动态规划就是把问题分解成若干个子问题。要分析是否能把大问题分解成小问题，并且分解后的小问题也存在最优解。"
   ]
  },
  {
   "cell_type": "markdown",
   "metadata": {},
   "source": [
    "### 剪绳子思路\n",
    "在剪第一刀的时候，有$n-1$种可能的选择，即剪出来的绳子长度有$1,2,....n-1$种选择，所以n长的绳子的总共长度有：\n",
    "$$f(n)=max(f(i)\\times f(n-i))$$\n",
    "\n",
    "而初始条件：当$n=2$时，$f(2)=1$，$n=3$时，$f(3)=2$\n",
    "\n",
    "为了节省储存空间和计算空间，考虑把$f(1)$到$f(n)$都算出来，然后查表"
   ]
  },
  {
   "cell_type": "code",
   "execution_count": 38,
   "metadata": {},
   "outputs": [],
   "source": [
    "def cutString(n):\n",
    "    max_num = 0\n",
    "    max_list = [0,1,2,3] # 保持下标\n",
    "    for i in range(4,n+1):\n",
    "        for j in range(1,i//2+1):\n",
    "            max_num = max(max_list[i-j]*max_list[j], max_num)\n",
    "        max_list.append(max_num)\n",
    "    return max_list[-1]"
   ]
  },
  {
   "cell_type": "markdown",
   "metadata": {},
   "source": [
    "这个结果不好的地方就是它要占用$O(n)$的空间和$O(n^2)$的时间复杂度。\n",
    "\n",
    "针对这个问题有更好的解法。\n",
    "\n",
    "当$n\\geq 5$时，尽可能多剪长度为3的绳子，剩下的绳子长度是$4$时，就把绳子剪成2段2的，证明如下:\n",
    "\n",
    "假设$n\\geq 5$时，要把这个绳子剪开的条件应该是：\n",
    "$$a(n-a)> n$$\n",
    "化简一下，有：$a^2 -an +n <0$。\n",
    "当$n=5$时，可以得到两个解为：3,2。\n",
    "\n",
    "而又有$3(n-3)>2(n-2)$，所以应该尽可能多剪3的，剩下长度为4时，剪成2的。编程有："
   ]
  },
  {
   "cell_type": "code",
   "execution_count": 45,
   "metadata": {},
   "outputs": [],
   "source": [
    "def cutString2(n):\n",
    "    if n < 2:\n",
    "        return 0\n",
    "    if n == 2:\n",
    "        return 1\n",
    "    if n == 3:\n",
    "        return 2\n",
    "    if n == 4:\n",
    "        return 4\n",
    "    \n",
    "    times_of_3 = n//3\n",
    "    ## 但是，当最后剩余的长度是4时，应该剪成2段。\n",
    "    if (n-1)%3 == 0:\n",
    "        times_of_3 -= 1\n",
    "    times_of_2 = (n-times_of_3 *3)//2\n",
    "    return 3**times_of_3 * (2**times_of_2)\n",
    "        "
   ]
  },
  {
   "cell_type": "code",
   "execution_count": 48,
   "metadata": {},
   "outputs": [
    {
     "data": {
      "text/plain": [
       "9"
      ]
     },
     "execution_count": 48,
     "metadata": {},
     "output_type": "execute_result"
    }
   ],
   "source": [
    "cutString2(6)"
   ]
  },
  {
   "cell_type": "code",
   "execution_count": null,
   "metadata": {},
   "outputs": [],
   "source": []
  }
 ],
 "metadata": {
  "kernelspec": {
   "display_name": "Python 3",
   "language": "python",
   "name": "python3"
  },
  "language_info": {
   "codemirror_mode": {
    "name": "ipython",
    "version": 3
   },
   "file_extension": ".py",
   "mimetype": "text/x-python",
   "name": "python",
   "nbconvert_exporter": "python",
   "pygments_lexer": "ipython3",
   "version": "3.7.1"
  }
 },
 "nbformat": 4,
 "nbformat_minor": 2
}
