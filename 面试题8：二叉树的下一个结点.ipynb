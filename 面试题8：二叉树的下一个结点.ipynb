{
 "cells": [
  {
   "cell_type": "markdown",
   "metadata": {},
   "source": [
    "如何找到中序遍历的下一个结点？"
   ]
  },
  {
   "cell_type": "markdown",
   "metadata": {},
   "source": [
    "### 我的思路\n",
    "这题早上刚听左神讲过，思路如下：\n",
    "1. 如果该结点有右子树，那么它的后续结点就是右子树最左边的结点；\n",
    "2. 如果该节点没有右子树，那么它的后续结点就是，以它为最左的子节点的那个结点。要实现这个功能，我们需要实现一颗可以指向父节点的树。"
   ]
  },
  {
   "cell_type": "code",
   "execution_count": 87,
   "metadata": {},
   "outputs": [],
   "source": [
    "# -*- coding:utf-8 -*-\n",
    "class TreeLinkNode:\n",
    "    def __init__(self, x):\n",
    "        self.val = x\n",
    "        self.left = None\n",
    "        self.right = None\n",
    "        self.next = None\n",
    "class Solution:\n",
    "    def GetNext(self, pNode):\n",
    "        # write code here\n",
    "        if pNode.right is not None:\n",
    "            curr = pNode.right\n",
    "            while curr.left is not None:\n",
    "                curr = curr.left\n",
    "            return curr\n",
    "        else:\n",
    "            curr = pNode\n",
    "            p = curr.next\n",
    "            while p is not None and curr != p.left:\n",
    "                curr = curr.next\n",
    "                p = curr.next\n",
    "            return p      "
   ]
  },
  {
   "cell_type": "code",
   "execution_count": 110,
   "metadata": {},
   "outputs": [],
   "source": [
    "# 测试\n",
    "# 一颗完全二叉树\n",
    "test = TreeLinkNode(1)\n",
    "test2 = TreeLinkNode(2)\n",
    "test3 = TreeLinkNode(3)\n",
    "test4 = TreeLinkNode(4)\n",
    "test5 = TreeLinkNode(5)\n",
    "test6 = TreeLinkNode(6)\n",
    "test7 = TreeLinkNode(7)\n",
    "\n",
    "test7.next = test3\n",
    "test6.next = test3\n",
    "\n",
    "\n",
    "test3.left = test6\n",
    "test3.right = test7\n",
    "test3.next = test\n",
    "\n",
    "test2.left = test4\n",
    "test2.right = test5\n",
    "test2.next = test\n",
    "\n",
    "test.left = test2\n",
    "test.right = test3"
   ]
  },
  {
   "cell_type": "markdown",
   "metadata": {},
   "source": [
    "这样一棵树的中序遍历是：[4,2,5,1,6,3,7]"
   ]
  },
  {
   "cell_type": "code",
   "execution_count": 91,
   "metadata": {},
   "outputs": [
    {
     "data": {
      "text/plain": [
       "6"
      ]
     },
     "execution_count": 91,
     "metadata": {},
     "output_type": "execute_result"
    }
   ],
   "source": [
    "a = Solution()\n",
    "a.GetNext(test).val"
   ]
  },
  {
   "cell_type": "code",
   "execution_count": 111,
   "metadata": {},
   "outputs": [],
   "source": [
    "## 所有树都没有左子典\n",
    "test = TreeLinkNode(1)\n",
    "test2 = TreeLinkNode(2)\n",
    "test3 = TreeLinkNode(3)\n",
    "test4 = TreeLinkNode(4)\n",
    "test5 = TreeLinkNode(5)\n",
    "test6 = TreeLinkNode(6)\n",
    "test7 = TreeLinkNode(7)\n",
    "\n",
    "test6.right = test7\n",
    "test5.right = test6\n",
    "test4.right = test5\n",
    "\n",
    "test7.next = test6\n",
    "test6.next = test5\n",
    "test5.next = test4\n",
    "## 它的中序遍历是[4,5,6,7]"
   ]
  },
  {
   "cell_type": "code",
   "execution_count": 113,
   "metadata": {},
   "outputs": [
    {
     "data": {
      "text/plain": [
       "6"
      ]
     },
     "execution_count": 113,
     "metadata": {},
     "output_type": "execute_result"
    }
   ],
   "source": [
    "a = Solution()\n",
    "a.GetNext(test5).val"
   ]
  },
  {
   "cell_type": "code",
   "execution_count": 100,
   "metadata": {},
   "outputs": [],
   "source": [
    "# 所有树都没有右节点\n",
    "test6.left = test7\n",
    "test5.left = test6\n",
    "test4.left = test5\n",
    "\n",
    "test7.next = test6\n",
    "test6.next = test5\n",
    "test5.next = test4\n",
    "# 中序遍历为[7,6,5,4]"
   ]
  },
  {
   "cell_type": "code",
   "execution_count": 101,
   "metadata": {},
   "outputs": [
    {
     "data": {
      "text/plain": [
       "6"
      ]
     },
     "execution_count": 101,
     "metadata": {},
     "output_type": "execute_result"
    }
   ],
   "source": [
    "a = Solution()\n",
    "a.GetNext(test7).val"
   ]
  }
 ],
 "metadata": {
  "kernelspec": {
   "display_name": "Python 3",
   "language": "python",
   "name": "python3"
  },
  "language_info": {
   "codemirror_mode": {
    "name": "ipython",
    "version": 3
   },
   "file_extension": ".py",
   "mimetype": "text/x-python",
   "name": "python",
   "nbconvert_exporter": "python",
   "pygments_lexer": "ipython3",
   "version": "3.7.1"
  }
 },
 "nbformat": 4,
 "nbformat_minor": 2
}
